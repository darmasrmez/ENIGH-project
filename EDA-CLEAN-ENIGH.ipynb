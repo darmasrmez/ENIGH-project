{
  "cells": [
    {
      "cell_type": "markdown",
      "metadata": {
        "id": "S6pztZ6GL75x"
      },
      "source": [
        "## **Reporte** - Fuentes de Información\n",
        "* 7 de Marzo del 2025\n",
        "#### ESCOM - IPN: *Modelado Predictivo*\n",
        "#### Prof. Claudia Blanquel\n",
        "\n",
        "#### *Lic. Ciencia de Datos* - 6AM1\n",
        "\n",
        "> Armas Ramirez Daniel\n",
        "\n",
        "> Gutierrez Ramirez Alana Sofia\n",
        "\n",
        "> Hernández Peña Irving Jafet\n",
        "\n",
        "> Reyes Maldonado Oscar Romario\n",
        "\n",
        "> Sanchez Garcia Miguel Alexander"
      ]
    },
    {
      "cell_type": "markdown",
      "metadata": {
        "id": "1We0fC6zMC9o"
      },
      "source": [
        "#### **0° Introducción**"
      ]
    },
    {
      "cell_type": "markdown",
      "metadata": {
        "id": "EHy_DspVMGdZ"
      },
      "source": [
        "Datos obtenidos de:\n",
        "\n",
        "> https://www.inegi.org.mx/programas/enigh/nc/2020/#datos_abiertos"
      ]
    },
    {
      "cell_type": "markdown",
      "metadata": {
        "id": "sayRNysrMKI1"
      },
      "source": [
        "**a.** Como primer paso, necesitamos **importar** todas las **librerias** que usaremos"
      ]
    },
    {
      "cell_type": "code",
      "execution_count": 1,
      "metadata": {
        "id": "qlavphVhMMtG"
      },
      "outputs": [],
      "source": [
        "import pandas as pd\n",
        "import numpy as np\n",
        "import matplotlib.pyplot as plt\n",
        "from matplotlib import cm\n",
        "import seaborn as sns\n",
        "\n",
        "from sklearn.preprocessing import MinMaxScaler"
      ]
    },
    {
      "cell_type": "markdown",
      "metadata": {
        "id": "ym6QzYbhMNq8"
      },
      "source": [
        "#### **1° Extracción de Datos**"
      ]
    },
    {
      "cell_type": "code",
      "execution_count": 75,
      "metadata": {
        "colab": {
          "base_uri": "https://localhost:8080/"
        },
        "id": "QTpVMu_FMP7C",
        "outputId": "6f5d3c00-dcf1-4b94-c6b7-12fc98b15f52"
      },
      "outputs": [
        {
          "name": "stderr",
          "output_type": "stream",
          "text": [
            "C:\\Users\\oscar\\AppData\\Local\\Temp\\ipykernel_19256\\1620222787.py:2: DtypeWarning: Columns (40,42,44,48,50,58,60,62,64,72,74,76,78,80,82,84,88,92,96) have mixed types. Specify dtype option on import or set low_memory=False.\n",
            "  hogares = pd.read_csv('conjunto_de_datos_enigh_ns_2016_csv/conjunto_de_datos_hogares_enigh_2016_ns/conjunto_de_datos/conjunto_de_datos_hogares_enigh_2016_ns.csv')\n",
            "C:\\Users\\oscar\\AppData\\Local\\Temp\\ipykernel_19256\\1620222787.py:3: DtypeWarning: Columns (4) have mixed types. Specify dtype option on import or set low_memory=False.\n",
            "  viviendas = pd.read_csv('conjunto_de_datos_enigh_ns_2016_csv/conjunto_de_datos_viviendas_enigh_2016_ns/conjunto_de_datos/conjunto_de_datos_viviendas_enigh_2016_ns.csv')\n",
            "C:\\Users\\oscar\\AppData\\Local\\Temp\\ipykernel_19256\\1620222787.py:4: DtypeWarning: Columns (46) have mixed types. Specify dtype option on import or set low_memory=False.\n",
            "  poblacion = pd.read_csv('conjunto_de_datos_enigh_ns_2016_csv/conjunto_de_datos_poblacion_enigh_2016_ns/conjunto_de_datos/conjunto_de_datos_poblacion_enigh_2016_ns.csv')\n"
          ]
        }
      ],
      "source": [
        "# Datos sociodemográficos\n",
        "hogares = pd.read_csv('conjunto_de_datos_enigh_ns_2016_csv/conjunto_de_datos_hogares_enigh_2016_ns/conjunto_de_datos/conjunto_de_datos_hogares_enigh_2016_ns.csv')\n",
        "viviendas = pd.read_csv('conjunto_de_datos_enigh_ns_2016_csv/conjunto_de_datos_viviendas_enigh_2016_ns/conjunto_de_datos/conjunto_de_datos_viviendas_enigh_2016_ns.csv')\n",
        "poblacion = pd.read_csv('conjunto_de_datos_enigh_ns_2016_csv/conjunto_de_datos_poblacion_enigh_2016_ns/conjunto_de_datos/conjunto_de_datos_poblacion_enigh_2016_ns.csv')\n",
        "\n",
        "# Datos Económicos\n",
        "erogaciones = pd.read_csv('conjunto_de_datos_enigh_ns_2016_csv/conjunto_de_datos_erogaciones_enigh_2016_ns/conjunto_de_datos/conjunto_de_datos_erogaciones_enigh_2016_ns.csv')\n",
        "gastoshogar = pd.read_csv('conjunto_de_datos_enigh_ns_2016_csv/conjunto_de_datos_gastoshogar_enigh_2016_ns/conjunto_de_datos/conjunto_de_datos_gastoshogar_enigh_2016_ns.csv')\n",
        "gastotarjetas = pd.read_csv('conjunto_de_datos_enigh_ns_2016_csv/conjunto_de_datos_gastotarjetas_enigh_2016_ns/conjunto_de_datos/conjunto_de_datos_gastotarjetas_enigh_2016_ns.csv')\n",
        "\n",
        "# Datos de Ingresos\n",
        "ingresos_enigh = pd.read_csv('conjunto_de_datos_enigh_ns_2016_csv/conjunto_de_datos_ingresos_enigh_2016_ns/conjunto_de_datos/conjunto_de_datos_ingresos_enigh_2016_ns.csv')\n",
        "\n",
        "# Datos Totales de ingresos\n",
        "concentradohogar = pd.read_csv('conjunto_de_datos_enigh_ns_2016_csv/conjunto_de_datos_concentradohogar_enigh_2016_ns/conjunto_de_datos/conjunto_de_datos_concentradohogar_enigh_2016_ns.csv')\n",
        "\n",
        "# Datos sobre trabajo\n",
        "trabajos = pd.read_csv('conjunto_de_datos_enigh_ns_2016_csv/conjunto_de_datos_trabajos_enigh_2016_ns/conjunto_de_datos/conjunto_de_datos_trabajos_enigh_2016_ns.csv')"
      ]
    },
    {
      "cell_type": "markdown",
      "metadata": {
        "id": "zuScZ1qcMTKb"
      },
      "source": [
        "#### **1° EDA (Análisis Exploratorio de Datos)**"
      ]
    },
    {
      "cell_type": "markdown",
      "metadata": {
        "id": "ALvFNwrsMYZp"
      },
      "source": [
        "##### *Datos Generales*"
      ]
    },
    {
      "cell_type": "markdown",
      "metadata": {
        "id": "GK6CSPJWMauy"
      },
      "source": [
        "**a.** **Dimensiones** de los dataframes"
      ]
    },
    {
      "cell_type": "code",
      "execution_count": 76,
      "metadata": {},
      "outputs": [
        {
          "name": "stdout",
          "output_type": "stream",
          "text": [
            "Hogares: (70311, 137)\n",
            "Viviendas: (69169, 64)\n",
            "Población: (257805, 178)\n",
            "Erogaciones: (44334, 16)\n",
            "Gastos Hogar: (1048575, 27)\n",
            "Gastos Tarjetas: (9976, 6)\n",
            "Ingresos: (334337, 17)\n",
            "Concentrado Hogar: (70311, 127)\n",
            "Trabajos: (132095, 55)\n"
          ]
        }
      ],
      "source": [
        "# Dimensiones de los datos\n",
        "print('Hogares:', hogares.shape)\n",
        "print('Viviendas:', viviendas.shape)\n",
        "print('Población:', poblacion.shape)\n",
        "print('Erogaciones:', erogaciones.shape)\n",
        "print('Gastos Hogar:', gastoshogar.shape)\n",
        "print('Gastos Tarjetas:', gastotarjetas.shape)\n",
        "print('Ingresos:', ingresos_enigh.shape)\n",
        "print('Concentrado Hogar:', concentradohogar.shape)\n",
        "print('Trabajos:', trabajos.shape)"
      ]
    },
    {
      "cell_type": "markdown",
      "metadata": {
        "id": "tKUNPQTWMoi6"
      },
      "source": [
        "**b.** Variables de cada dataframe"
      ]
    },
    {
      "cell_type": "code",
      "execution_count": null,
      "metadata": {
        "colab": {
          "base_uri": "https://localhost:8080/",
          "height": 363
        },
        "id": "qQYnwSirMqpP",
        "outputId": "5ed71a13-815f-4cff-9c89-846baab996d7"
      },
      "outputs": [
        {
          "data": {
            "text/plain": [
              "array(['folioviv', 'foliohog', 'huespedes', 'huesp_come', 'num_trab_d',\n",
              "       'trab_come', 'acc_alim1', 'acc_alim2', 'acc_alim3', 'acc_alim4',\n",
              "       'acc_alim5', 'acc_alim6', 'acc_alim7', 'acc_alim8', 'acc_alim9',\n",
              "       'acc_alim10', 'acc_alim11', 'acc_alim12', 'acc_alim13',\n",
              "       'acc_alim14', 'acc_alim15', 'acc_alim16', 'alim17_1', 'alim17_2',\n",
              "       'alim17_3', 'alim17_4', 'alim17_5', 'alim17_6', 'alim17_7',\n",
              "       'alim17_8', 'alim17_9', 'alim17_10', 'alim17_11', 'alim17_12',\n",
              "       'acc_alim18', 'telefono', 'celular', 'tv_paga', 'conex_inte',\n",
              "       'num_auto', 'anio_auto', 'num_van', 'anio_van', 'num_pickup',\n",
              "       'anio_picku', 'num_moto', 'anio_moto', 'num_bici', 'anio_bici',\n",
              "       'num_trici', 'anio_trici', 'num_carret', 'anio_carre', 'num_canoa',\n",
              "       'anio_canoa', 'num_otro', 'anio_otro', 'num_ester', 'anio_ester',\n",
              "       'num_grab', 'anio_grab', 'num_radio', 'anio_radio', 'num_tva',\n",
              "       'anio_tva', 'num_tvd', 'anio_tvd', 'num_dvd', 'anio_dvd',\n",
              "       'num_video', 'anio_video', 'num_licua', 'anio_licua', 'num_tosta',\n",
              "       'anio_tosta', 'num_micro', 'anio_micro', 'num_refri', 'anio_refri',\n",
              "       'num_estuf', 'anio_estuf', 'num_lavad', 'anio_lavad', 'num_planc',\n",
              "       'anio_planc', 'num_maqui', 'anio_maqui', 'num_venti', 'anio_venti',\n",
              "       'num_aspir', 'anio_aspir', 'num_compu', 'anio_compu', 'num_impre',\n",
              "       'anio_impre', 'num_juego', 'anio_juego', 'esc_radio', 'er_aparato',\n",
              "       'er_celular', 'er_compu', 'er_aplicac', 'er_tv', 'er_otro',\n",
              "       'recib_tvd', 'tsalud1_h', 'tsalud1_m', 'habito_1', 'habito_2',\n",
              "       'habito_3', 'habito_4', 'habito_5', 'habito_6', 'consumo',\n",
              "       'nr_viv', 'tarjeta', 'pagotarjet', 'regalotar', 'regalodado',\n",
              "       'autocons', 'regalos', 'remunera', 'transferen', 'parto_g',\n",
              "       'embarazo_g', 'negcua', 'est_alim', 'est_trans', 'bene_licon',\n",
              "       'cond_licon', 'lts_licon', 'otros_lts', 'diconsa', 'frec_dicon',\n",
              "       'cond_dicon', 'pago_dicon', 'otro_pago'], dtype=object)"
            ]
          },
          "execution_count": 15,
          "metadata": {},
          "output_type": "execute_result"
        }
      ],
      "source": [
        "# Variables de cada dataframe\n",
        "hogares.columns.values"
      ]
    },
    {
      "cell_type": "code",
      "execution_count": 16,
      "metadata": {},
      "outputs": [
        {
          "data": {
            "text/plain": [
              "array(['folioviv', 'tipo_viv', 'mat_pared', 'mat_techos', 'mat_pisos',\n",
              "       'antiguedad', 'antigua_ne', 'cocina', 'cocina_dor', 'cuart_dorm',\n",
              "       'num_cuarto', 'disp_agua', 'dotac_agua', 'excusado', 'uso_compar',\n",
              "       'sanit_agua', 'biodigest', 'bano_comp', 'bano_excus', 'bano_regad',\n",
              "       'drenaje', 'disp_elect', 'focos_inca', 'focos_ahor', 'combustible',\n",
              "       'estufa_chi', 'eli_basura', 'tenencia', 'renta', 'estim_pago',\n",
              "       'pago_viv', 'pago_mesp', 'tipo_adqui', 'viv_usada', 'tipo_finan',\n",
              "       'num_dueno1', 'hog_dueno1', 'num_dueno2', 'hog_dueno2',\n",
              "       'escrituras', 'lavadero', 'fregadero', 'regadera', 'tinaco_azo',\n",
              "       'cisterna', 'pileta', 'calent_sol', 'calent_gas', 'medidor_luz',\n",
              "       'bomba_agua', 'tanque_gas', 'aire_acond', 'calefacc', 'tot_resid',\n",
              "       'tot_hom', 'tot_muj', 'tot_hog', 'ubica_geo', 'ageb', 'tam_loc',\n",
              "       'est_socio', 'est_dis', 'upm', 'factor'], dtype=object)"
            ]
          },
          "execution_count": 16,
          "metadata": {},
          "output_type": "execute_result"
        }
      ],
      "source": [
        "viviendas.columns.values"
      ]
    },
    {
      "cell_type": "code",
      "execution_count": null,
      "metadata": {},
      "outputs": [
        {
          "data": {
            "text/plain": [
              "array(['folioviv', 'foliohog', 'numren', 'parentesco', 'sexo', 'edad',\n",
              "       'madre_hog', 'madre_id', 'padre_hog', 'padre_id', 'disc1', 'disc2',\n",
              "       'disc3', 'disc4', 'disc5', 'disc6', 'disc7', 'causa1', 'causa2',\n",
              "       'causa3', 'causa4', 'causa5', 'causa6', 'causa7', 'hablaind',\n",
              "       'lenguaind', 'hablaesp', 'comprenind', 'etnia', 'alfabetism',\n",
              "       'asis_esc', 'nivel', 'grado', 'tipoesc', 'tiene_b', 'otorg_b',\n",
              "       'forma_b', 'tiene_c', 'otorg_c', 'forma_c', 'nivelaprob',\n",
              "       'gradoaprob', 'antec_esc', 'residencia', 'edo_conyug',\n",
              "       'pareja_hog', 'conyuge_id', 'segsoc', 'ss_aa', 'ss_mm', 'redsoc_1',\n",
              "       'redsoc_2', 'redsoc_3', 'redsoc_4', 'redsoc_5', 'redsoc_6',\n",
              "       'hor_1', 'min_1', 'usotiempo1', 'hor_2', 'min_2', 'usotiempo2',\n",
              "       'hor_3', 'min_3', 'usotiempo3', 'hor_4', 'min_4', 'usotiempo4',\n",
              "       'hor_5', 'min_5', 'usotiempo5', 'hor_6', 'min_6', 'usotiempo6',\n",
              "       'hor_7', 'min_7', 'usotiempo7', 'hor_8', 'min_8', 'usotiempo8',\n",
              "       'segpop', 'atemed', 'inst_1', 'inst_2', 'inst_3', 'inst_4',\n",
              "       'inst_5', 'inst_6', 'inscr_1', 'inscr_2', 'inscr_3', 'inscr_4',\n",
              "       'inscr_5', 'inscr_6', 'inscr_7', 'inscr_8', 'prob_anio',\n",
              "       'prob_mes', 'prob_sal', 'aten_sal', 'servmed_1', 'servmed_2',\n",
              "       'servmed_3', 'servmed_4', 'servmed_5', 'servmed_6', 'servmed_7',\n",
              "       'servmed_8', 'servmed_9', 'servmed_10', 'servmed_11', 'hh_lug',\n",
              "       'mm_lug', 'hh_esp', 'mm_esp', 'pagoaten_1', 'pagoaten_2',\n",
              "       'pagoaten_3', 'pagoaten_4', 'pagoaten_5', 'pagoaten_6',\n",
              "       'pagoaten_7', 'noatenc_1', 'noatenc_2', 'noatenc_3', 'noatenc_4',\n",
              "       'noatenc_5', 'noatenc_6', 'noatenc_7', 'noatenc_8', 'noatenc_9',\n",
              "       'noatenc_10', 'noatenc_11', 'noatenc_12', 'noatenc_13',\n",
              "       'noatenc_14', 'noatenc_15', 'noatenc_16', 'norecib_1', 'norecib_2',\n",
              "       'norecib_3', 'norecib_4', 'norecib_5', 'norecib_6', 'norecib_7',\n",
              "       'norecib_8', 'norecib_9', 'norecib_10', 'norecib_11', 'razon_1',\n",
              "       'razon_2', 'razon_3', 'razon_4', 'razon_5', 'razon_6', 'razon_7',\n",
              "       'razon_8', 'razon_9', 'razon_10', 'razon_11', 'diabetes',\n",
              "       'pres_alta', 'peso', 'segvol_1', 'segvol_2', 'segvol_3',\n",
              "       'segvol_4', 'segvol_5', 'segvol_6', 'segvol_7', 'hijos_viv',\n",
              "       'hijos_mue', 'hijos_sob', 'trabajo_mp', 'motivo_aus', 'act_pnea1',\n",
              "       'act_pnea2', 'num_trabaj'], dtype=object)"
            ]
          },
          "execution_count": 17,
          "metadata": {},
          "output_type": "execute_result"
        }
      ],
      "source": [
        "poblacion.columns.values"
      ]
    },
    {
      "cell_type": "code",
      "execution_count": 18,
      "metadata": {},
      "outputs": [
        {
          "data": {
            "text/plain": [
              "array(['folioviv', 'foliohog', 'clave', 'mes_1', 'mes_2', 'mes_3',\n",
              "       'mes_4', 'mes_5', 'mes_6', 'ero_1', 'ero_2', 'ero_3', 'ero_4',\n",
              "       'ero_5', 'ero_6', 'ero_tri'], dtype=object)"
            ]
          },
          "execution_count": 18,
          "metadata": {},
          "output_type": "execute_result"
        }
      ],
      "source": [
        "erogaciones.columns.values"
      ]
    },
    {
      "cell_type": "code",
      "execution_count": 19,
      "metadata": {},
      "outputs": [
        {
          "data": {
            "text/plain": [
              "array(['folioviv', 'foliohog', 'clave', 'tipo_gasto', 'mes_dia',\n",
              "       'forma_pag1', 'forma_pag2', 'forma_pag3', 'lugar_comp',\n",
              "       'orga_inst', 'frecuencia', 'fecha_adqu', 'fecha_pago', 'cantidad',\n",
              "       'gasto', 'pago_mp', 'costo', 'inmujer', 'inst_1', 'inst_2',\n",
              "       'num_meses', 'num_pagos', 'ultim_pago', 'gasto_tri', 'gasto_nm',\n",
              "       'gas_nm_tri', 'imujer_tri'], dtype=object)"
            ]
          },
          "execution_count": 19,
          "metadata": {},
          "output_type": "execute_result"
        }
      ],
      "source": [
        "gastoshogar.columns.values"
      ]
    },
    {
      "cell_type": "code",
      "execution_count": 20,
      "metadata": {},
      "outputs": [
        {
          "data": {
            "text/plain": [
              "array(['folioviv', 'foliohog', 'clave', 'gasto', 'pago_mp', 'gasto_tri'],\n",
              "      dtype=object)"
            ]
          },
          "execution_count": 20,
          "metadata": {},
          "output_type": "execute_result"
        }
      ],
      "source": [
        "gastotarjetas.columns.values"
      ]
    },
    {
      "cell_type": "code",
      "execution_count": 21,
      "metadata": {},
      "outputs": [
        {
          "data": {
            "text/plain": [
              "array(['folioviv', 'foliohog', 'numren', 'clave', 'mes_1', 'mes_2',\n",
              "       'mes_3', 'mes_4', 'mes_5', 'mes_6', 'ing_1', 'ing_2', 'ing_3',\n",
              "       'ing_4', 'ing_5', 'ing_6', 'ing_tri'], dtype=object)"
            ]
          },
          "execution_count": 21,
          "metadata": {},
          "output_type": "execute_result"
        }
      ],
      "source": [
        "ingresos_enigh.columns.values"
      ]
    },
    {
      "cell_type": "code",
      "execution_count": 22,
      "metadata": {},
      "outputs": [
        {
          "data": {
            "text/plain": [
              "array(['folioviv', 'foliohog', 'ubica_geo', 'ageb', 'tam_loc',\n",
              "       'est_socio', 'est_dis', 'upm', 'factor', 'clase_hog', 'sexo_jefe',\n",
              "       'edad_jefe', 'educa_jefe', 'tot_integ', 'hombres', 'mujeres',\n",
              "       'mayores', 'menores', 'p12_64', 'p65mas', 'ocupados', 'percep_ing',\n",
              "       'perc_ocupa', 'ing_cor', 'ingtrab', 'trabajo', 'sueldos',\n",
              "       'horas_extr', 'comisiones', 'aguinaldo', 'indemtrab', 'otra_rem',\n",
              "       'remu_espec', 'negocio', 'noagrop', 'industria', 'comercio',\n",
              "       'servicios', 'agrope', 'agricolas', 'pecuarios', 'reproducc',\n",
              "       'pesca', 'otros_trab', 'rentas', 'utilidad', 'arrenda', 'transfer',\n",
              "       'jubilacion', 'becas', 'donativos', 'remesas', 'bene_gob',\n",
              "       'transf_hog', 'trans_inst', 'estim_alqu', 'otros_ing', 'gasto_mon',\n",
              "       'alimentos', 'ali_dentro', 'cereales', 'carnes', 'pescado',\n",
              "       'leche', 'huevo', 'aceites', 'tuberculo', 'verduras', 'frutas',\n",
              "       'azucar', 'cafe', 'especias', 'otros_alim', 'bebidas', 'ali_fuera',\n",
              "       'tabaco', 'vesti_calz', 'vestido', 'calzado', 'vivienda',\n",
              "       'alquiler', 'pred_cons', 'agua', 'energia', 'limpieza', 'cuidados',\n",
              "       'utensilios', 'enseres', 'salud', 'atenc_ambu', 'hospital',\n",
              "       'medicinas', 'transporte', 'publico', 'foraneo', 'adqui_vehi',\n",
              "       'mantenim', 'refaccion', 'combus', 'comunica', 'educa_espa',\n",
              "       'educacion', 'esparci', 'paq_turist', 'personales', 'cuida_pers',\n",
              "       'acces_pers', 'otros_gas', 'transf_gas', 'percep_tot',\n",
              "       'retiro_inv', 'prestamos', 'otras_perc', 'ero_nm_viv',\n",
              "       'ero_nm_hog', 'erogac_tot', 'cuota_viv', 'mater_serv', 'material',\n",
              "       'servicio', 'deposito', 'prest_terc', 'pago_tarje', 'deudas',\n",
              "       'balance', 'otras_erog', 'smg'], dtype=object)"
            ]
          },
          "execution_count": 22,
          "metadata": {},
          "output_type": "execute_result"
        }
      ],
      "source": [
        "concentradohogar.columns.values"
      ]
    },
    {
      "cell_type": "code",
      "execution_count": 23,
      "metadata": {},
      "outputs": [
        {
          "data": {
            "text/plain": [
              "array(['folioviv', 'foliohog', 'numren', 'id_trabajo', 'trapais', 'subor',\n",
              "       'indep', 'personal', 'pago', 'contrato', 'tipocontr', 'pres_1',\n",
              "       'pres_2', 'pres_3', 'pres_4', 'pres_5', 'pres_6', 'pres_7',\n",
              "       'pres_8', 'pres_9', 'pres_10', 'pres_11', 'pres_12', 'pres_13',\n",
              "       'pres_14', 'pres_15', 'pres_16', 'pres_17', 'pres_18', 'pres_19',\n",
              "       'pres_20', 'pres_21', 'pres_22', 'pres_23', 'pres_24', 'pres_25',\n",
              "       'pres_26', 'htrab', 'sinco', 'scian', 'clas_emp', 'tam_emp',\n",
              "       'no_ing', 'tiene_suel', 'tipoact', 'socios', 'soc_nr1', 'soc_nr2',\n",
              "       'soc_resp', 'otra_act', 'tipoact2', 'tipoact3', 'tipoact4',\n",
              "       'lugar', 'conf_pers'], dtype=object)"
            ]
          },
          "execution_count": 23,
          "metadata": {},
          "output_type": "execute_result"
        }
      ],
      "source": [
        "trabajos.columns.values"
      ]
    },
    {
      "cell_type": "markdown",
      "metadata": {},
      "source": [
        "**c.** Correlación entre variables numéricas"
      ]
    },
    {
      "cell_type": "code",
      "execution_count": 77,
      "metadata": {},
      "outputs": [],
      "source": [
        "# Copia de los datos\n",
        "hogares_copy = hogares.copy()\n",
        "viviendas_copy = viviendas.copy()\n",
        "poblacion_copy = poblacion.copy()\n",
        "erogaciones_copy = erogaciones.copy()\n",
        "gastoshogar_copy = gastoshogar.copy()\n",
        "gastotarjetas_copy = gastotarjetas.copy()\n",
        "ingresos_enigh_copy = ingresos_enigh.copy()\n",
        "concentradohogar_copy = concentradohogar.copy()\n",
        "trabajos_copy = trabajos.copy()"
      ]
    },
    {
      "cell_type": "code",
      "execution_count": null,
      "metadata": {},
      "outputs": [],
      "source": [
        "# Imprimir variables con valores nulos\n",
        "def missing_values_table(df):\n",
        "    mis_val = df.isnull().sum()\n",
        "    mis_val_percent = 100 * df.isnull().sum() / len(df)\n",
        "    mis_val_table = pd.concat([mis_val, mis_val_percent], axis=1)\n",
        "    mis_val_table_ren_columns = mis_val_table.rename(columns={0: 'Valores Faltantes', 1: '% del total'})\n",
        "    mis_val_table_ren_columns = mis_val_table_ren_columns[mis_val_table_ren_columns.iloc[:, 1] != 0].sort_values('% del total', ascending=False).round(1)\n",
        "    print('Su DataFrame tiene ' + str(df.shape[1]) + ' columnas.\\n'\n",
        "          'Hay ' + str(mis_val_table_ren_columns.shape[0]) + ' columnas que tienen valores faltantes.')\n",
        "    return mis_val_table_ren_columns"
      ]
    },
    {
      "cell_type": "code",
      "execution_count": 89,
      "metadata": {},
      "outputs": [
        {
          "name": "stdout",
          "output_type": "stream",
          "text": [
            "Su DataFrame tiene 137 columnas.\n",
            "Hay 59 columnas que tienen valores faltantes.\n"
          ]
        },
        {
          "data": {
            "text/html": [
              "<div>\n",
              "<style scoped>\n",
              "    .dataframe tbody tr th:only-of-type {\n",
              "        vertical-align: middle;\n",
              "    }\n",
              "\n",
              "    .dataframe tbody tr th {\n",
              "        vertical-align: top;\n",
              "    }\n",
              "\n",
              "    .dataframe thead th {\n",
              "        text-align: right;\n",
              "    }\n",
              "</style>\n",
              "<table border=\"1\" class=\"dataframe\">\n",
              "  <thead>\n",
              "    <tr style=\"text-align: right;\">\n",
              "      <th></th>\n",
              "      <th>Valores Faltantes</th>\n",
              "      <th>% del total</th>\n",
              "    </tr>\n",
              "  </thead>\n",
              "  <tbody>\n",
              "    <tr>\n",
              "      <th>nr_viv</th>\n",
              "      <td>70239</td>\n",
              "      <td>99.9</td>\n",
              "    </tr>\n",
              "    <tr>\n",
              "      <th>anio_otro</th>\n",
              "      <td>70194</td>\n",
              "      <td>99.8</td>\n",
              "    </tr>\n",
              "    <tr>\n",
              "      <th>er_aplicac</th>\n",
              "      <td>70139</td>\n",
              "      <td>99.8</td>\n",
              "    </tr>\n",
              "    <tr>\n",
              "      <th>anio_canoa</th>\n",
              "      <td>70109</td>\n",
              "      <td>99.7</td>\n",
              "    </tr>\n",
              "    <tr>\n",
              "      <th>anio_carre</th>\n",
              "      <td>70062</td>\n",
              "      <td>99.6</td>\n",
              "    </tr>\n",
              "    <tr>\n",
              "      <th>er_compu</th>\n",
              "      <td>69995</td>\n",
              "      <td>99.6</td>\n",
              "    </tr>\n",
              "    <tr>\n",
              "      <th>er_tv</th>\n",
              "      <td>69919</td>\n",
              "      <td>99.4</td>\n",
              "    </tr>\n",
              "    <tr>\n",
              "      <th>er_otro</th>\n",
              "      <td>69745</td>\n",
              "      <td>99.2</td>\n",
              "    </tr>\n",
              "    <tr>\n",
              "      <th>anio_trici</th>\n",
              "      <td>69206</td>\n",
              "      <td>98.4</td>\n",
              "    </tr>\n",
              "    <tr>\n",
              "      <th>habito_6</th>\n",
              "      <td>68620</td>\n",
              "      <td>97.6</td>\n",
              "    </tr>\n",
              "    <tr>\n",
              "      <th>habito_4</th>\n",
              "      <td>67421</td>\n",
              "      <td>95.9</td>\n",
              "    </tr>\n",
              "    <tr>\n",
              "      <th>anio_video</th>\n",
              "      <td>67299</td>\n",
              "      <td>95.7</td>\n",
              "    </tr>\n",
              "    <tr>\n",
              "      <th>er_celular</th>\n",
              "      <td>66962</td>\n",
              "      <td>95.2</td>\n",
              "    </tr>\n",
              "    <tr>\n",
              "      <th>lts_licon</th>\n",
              "      <td>66035</td>\n",
              "      <td>93.9</td>\n",
              "    </tr>\n",
              "    <tr>\n",
              "      <th>cond_licon</th>\n",
              "      <td>66035</td>\n",
              "      <td>93.9</td>\n",
              "    </tr>\n",
              "    <tr>\n",
              "      <th>anio_aspir</th>\n",
              "      <td>65963</td>\n",
              "      <td>93.8</td>\n",
              "    </tr>\n",
              "    <tr>\n",
              "      <th>anio_moto</th>\n",
              "      <td>64485</td>\n",
              "      <td>91.7</td>\n",
              "    </tr>\n",
              "    <tr>\n",
              "      <th>anio_juego</th>\n",
              "      <td>64167</td>\n",
              "      <td>91.3</td>\n",
              "    </tr>\n",
              "    <tr>\n",
              "      <th>habito_1</th>\n",
              "      <td>63844</td>\n",
              "      <td>90.8</td>\n",
              "    </tr>\n",
              "    <tr>\n",
              "      <th>anio_impre</th>\n",
              "      <td>63156</td>\n",
              "      <td>89.8</td>\n",
              "    </tr>\n",
              "    <tr>\n",
              "      <th>anio_picku</th>\n",
              "      <td>61470</td>\n",
              "      <td>87.4</td>\n",
              "    </tr>\n",
              "    <tr>\n",
              "      <th>anio_van</th>\n",
              "      <td>61287</td>\n",
              "      <td>87.2</td>\n",
              "    </tr>\n",
              "    <tr>\n",
              "      <th>anio_tosta</th>\n",
              "      <td>60747</td>\n",
              "      <td>86.4</td>\n",
              "    </tr>\n",
              "    <tr>\n",
              "      <th>anio_maqui</th>\n",
              "      <td>60535</td>\n",
              "      <td>86.1</td>\n",
              "    </tr>\n",
              "    <tr>\n",
              "      <th>pago_dicon</th>\n",
              "      <td>60352</td>\n",
              "      <td>85.8</td>\n",
              "    </tr>\n",
              "    <tr>\n",
              "      <th>cond_dicon</th>\n",
              "      <td>60352</td>\n",
              "      <td>85.8</td>\n",
              "    </tr>\n",
              "    <tr>\n",
              "      <th>anio_grab</th>\n",
              "      <td>59794</td>\n",
              "      <td>85.0</td>\n",
              "    </tr>\n",
              "    <tr>\n",
              "      <th>anio_bici</th>\n",
              "      <td>58073</td>\n",
              "      <td>82.6</td>\n",
              "    </tr>\n",
              "    <tr>\n",
              "      <th>anio_radio</th>\n",
              "      <td>56707</td>\n",
              "      <td>80.7</td>\n",
              "    </tr>\n",
              "    <tr>\n",
              "      <th>habito_2</th>\n",
              "      <td>54416</td>\n",
              "      <td>77.4</td>\n",
              "    </tr>\n",
              "    <tr>\n",
              "      <th>anio_compu</th>\n",
              "      <td>53011</td>\n",
              "      <td>75.4</td>\n",
              "    </tr>\n",
              "    <tr>\n",
              "      <th>anio_auto</th>\n",
              "      <td>51463</td>\n",
              "      <td>73.2</td>\n",
              "    </tr>\n",
              "    <tr>\n",
              "      <th>frec_dicon</th>\n",
              "      <td>48343</td>\n",
              "      <td>68.8</td>\n",
              "    </tr>\n",
              "    <tr>\n",
              "      <th>acc_alim10</th>\n",
              "      <td>47499</td>\n",
              "      <td>67.6</td>\n",
              "    </tr>\n",
              "    <tr>\n",
              "      <th>acc_alim12</th>\n",
              "      <td>47499</td>\n",
              "      <td>67.6</td>\n",
              "    </tr>\n",
              "    <tr>\n",
              "      <th>acc_alim13</th>\n",
              "      <td>47499</td>\n",
              "      <td>67.6</td>\n",
              "    </tr>\n",
              "    <tr>\n",
              "      <th>acc_alim14</th>\n",
              "      <td>47499</td>\n",
              "      <td>67.6</td>\n",
              "    </tr>\n",
              "    <tr>\n",
              "      <th>acc_alim15</th>\n",
              "      <td>47499</td>\n",
              "      <td>67.6</td>\n",
              "    </tr>\n",
              "    <tr>\n",
              "      <th>acc_alim11</th>\n",
              "      <td>47499</td>\n",
              "      <td>67.6</td>\n",
              "    </tr>\n",
              "    <tr>\n",
              "      <th>acc_alim16</th>\n",
              "      <td>47499</td>\n",
              "      <td>67.6</td>\n",
              "    </tr>\n",
              "    <tr>\n",
              "      <th>anio_dvd</th>\n",
              "      <td>47234</td>\n",
              "      <td>67.2</td>\n",
              "    </tr>\n",
              "    <tr>\n",
              "      <th>anio_ester</th>\n",
              "      <td>45143</td>\n",
              "      <td>64.2</td>\n",
              "    </tr>\n",
              "    <tr>\n",
              "      <th>recib_tvd</th>\n",
              "      <td>42563</td>\n",
              "      <td>60.5</td>\n",
              "    </tr>\n",
              "    <tr>\n",
              "      <th>habito_3</th>\n",
              "      <td>41708</td>\n",
              "      <td>59.3</td>\n",
              "    </tr>\n",
              "    <tr>\n",
              "      <th>anio_micro</th>\n",
              "      <td>41067</td>\n",
              "      <td>58.4</td>\n",
              "    </tr>\n",
              "    <tr>\n",
              "      <th>er_aparato</th>\n",
              "      <td>40963</td>\n",
              "      <td>58.3</td>\n",
              "    </tr>\n",
              "    <tr>\n",
              "      <th>habito_5</th>\n",
              "      <td>39618</td>\n",
              "      <td>56.3</td>\n",
              "    </tr>\n",
              "    <tr>\n",
              "      <th>anio_tva</th>\n",
              "      <td>35742</td>\n",
              "      <td>50.8</td>\n",
              "    </tr>\n",
              "    <tr>\n",
              "      <th>acc_alim9</th>\n",
              "      <td>35642</td>\n",
              "      <td>50.7</td>\n",
              "    </tr>\n",
              "    <tr>\n",
              "      <th>acc_alim7</th>\n",
              "      <td>35642</td>\n",
              "      <td>50.7</td>\n",
              "    </tr>\n",
              "    <tr>\n",
              "      <th>acc_alim8</th>\n",
              "      <td>35642</td>\n",
              "      <td>50.7</td>\n",
              "    </tr>\n",
              "    <tr>\n",
              "      <th>anio_venti</th>\n",
              "      <td>31154</td>\n",
              "      <td>44.3</td>\n",
              "    </tr>\n",
              "    <tr>\n",
              "      <th>anio_tvd</th>\n",
              "      <td>23777</td>\n",
              "      <td>33.8</td>\n",
              "    </tr>\n",
              "    <tr>\n",
              "      <th>anio_lavad</th>\n",
              "      <td>23005</td>\n",
              "      <td>32.7</td>\n",
              "    </tr>\n",
              "    <tr>\n",
              "      <th>consumo</th>\n",
              "      <td>20767</td>\n",
              "      <td>29.5</td>\n",
              "    </tr>\n",
              "    <tr>\n",
              "      <th>anio_planc</th>\n",
              "      <td>17968</td>\n",
              "      <td>25.6</td>\n",
              "    </tr>\n",
              "    <tr>\n",
              "      <th>anio_licua</th>\n",
              "      <td>10825</td>\n",
              "      <td>15.4</td>\n",
              "    </tr>\n",
              "    <tr>\n",
              "      <th>anio_refri</th>\n",
              "      <td>10021</td>\n",
              "      <td>14.3</td>\n",
              "    </tr>\n",
              "    <tr>\n",
              "      <th>anio_estuf</th>\n",
              "      <td>8046</td>\n",
              "      <td>11.4</td>\n",
              "    </tr>\n",
              "  </tbody>\n",
              "</table>\n",
              "</div>"
            ],
            "text/plain": [
              "            Valores Faltantes  % del total\n",
              "nr_viv                  70239         99.9\n",
              "anio_otro               70194         99.8\n",
              "er_aplicac              70139         99.8\n",
              "anio_canoa              70109         99.7\n",
              "anio_carre              70062         99.6\n",
              "er_compu                69995         99.6\n",
              "er_tv                   69919         99.4\n",
              "er_otro                 69745         99.2\n",
              "anio_trici              69206         98.4\n",
              "habito_6                68620         97.6\n",
              "habito_4                67421         95.9\n",
              "anio_video              67299         95.7\n",
              "er_celular              66962         95.2\n",
              "lts_licon               66035         93.9\n",
              "cond_licon              66035         93.9\n",
              "anio_aspir              65963         93.8\n",
              "anio_moto               64485         91.7\n",
              "anio_juego              64167         91.3\n",
              "habito_1                63844         90.8\n",
              "anio_impre              63156         89.8\n",
              "anio_picku              61470         87.4\n",
              "anio_van                61287         87.2\n",
              "anio_tosta              60747         86.4\n",
              "anio_maqui              60535         86.1\n",
              "pago_dicon              60352         85.8\n",
              "cond_dicon              60352         85.8\n",
              "anio_grab               59794         85.0\n",
              "anio_bici               58073         82.6\n",
              "anio_radio              56707         80.7\n",
              "habito_2                54416         77.4\n",
              "anio_compu              53011         75.4\n",
              "anio_auto               51463         73.2\n",
              "frec_dicon              48343         68.8\n",
              "acc_alim10              47499         67.6\n",
              "acc_alim12              47499         67.6\n",
              "acc_alim13              47499         67.6\n",
              "acc_alim14              47499         67.6\n",
              "acc_alim15              47499         67.6\n",
              "acc_alim11              47499         67.6\n",
              "acc_alim16              47499         67.6\n",
              "anio_dvd                47234         67.2\n",
              "anio_ester              45143         64.2\n",
              "recib_tvd               42563         60.5\n",
              "habito_3                41708         59.3\n",
              "anio_micro              41067         58.4\n",
              "er_aparato              40963         58.3\n",
              "habito_5                39618         56.3\n",
              "anio_tva                35742         50.8\n",
              "acc_alim9               35642         50.7\n",
              "acc_alim7               35642         50.7\n",
              "acc_alim8               35642         50.7\n",
              "anio_venti              31154         44.3\n",
              "anio_tvd                23777         33.8\n",
              "anio_lavad              23005         32.7\n",
              "consumo                 20767         29.5\n",
              "anio_planc              17968         25.6\n",
              "anio_licua              10825         15.4\n",
              "anio_refri              10021         14.3\n",
              "anio_estuf               8046         11.4"
            ]
          },
          "execution_count": 89,
          "metadata": {},
          "output_type": "execute_result"
        }
      ],
      "source": [
        "missing_values_table(hogares_copy)"
      ]
    },
    {
      "cell_type": "code",
      "execution_count": null,
      "metadata": {},
      "outputs": [
        {
          "name": "stdout",
          "output_type": "stream",
          "text": [
            "Su DataFrame tiene 64 columnas.\n",
            "Hay 0 columnas que tienen valores faltantes.\n"
          ]
        },
        {
          "data": {
            "text/html": [
              "<div>\n",
              "<style scoped>\n",
              "    .dataframe tbody tr th:only-of-type {\n",
              "        vertical-align: middle;\n",
              "    }\n",
              "\n",
              "    .dataframe tbody tr th {\n",
              "        vertical-align: top;\n",
              "    }\n",
              "\n",
              "    .dataframe thead th {\n",
              "        text-align: right;\n",
              "    }\n",
              "</style>\n",
              "<table border=\"1\" class=\"dataframe\">\n",
              "  <thead>\n",
              "    <tr style=\"text-align: right;\">\n",
              "      <th></th>\n",
              "      <th>Valores Faltantes</th>\n",
              "      <th>% del total</th>\n",
              "    </tr>\n",
              "  </thead>\n",
              "  <tbody>\n",
              "  </tbody>\n",
              "</table>\n",
              "</div>"
            ],
            "text/plain": [
              "Empty DataFrame\n",
              "Columns: [Valores Faltantes, % del total]\n",
              "Index: []"
            ]
          },
          "execution_count": 86,
          "metadata": {},
          "output_type": "execute_result"
        }
      ],
      "source": [
        "missing_values_table(viviendas_copy)"
      ]
    },
    {
      "cell_type": "code",
      "execution_count": null,
      "metadata": {},
      "outputs": [
        {
          "name": "stdout",
          "output_type": "stream",
          "text": [
            "Su DataFrame tiene 178 columnas.\n",
            "Hay 145 columnas que tienen valores faltantes.\n"
          ]
        },
        {
          "data": {
            "text/html": [
              "<div>\n",
              "<style scoped>\n",
              "    .dataframe tbody tr th:only-of-type {\n",
              "        vertical-align: middle;\n",
              "    }\n",
              "\n",
              "    .dataframe tbody tr th {\n",
              "        vertical-align: top;\n",
              "    }\n",
              "\n",
              "    .dataframe thead th {\n",
              "        text-align: right;\n",
              "    }\n",
              "</style>\n",
              "<table border=\"1\" class=\"dataframe\">\n",
              "  <thead>\n",
              "    <tr style=\"text-align: right;\">\n",
              "      <th></th>\n",
              "      <th>Valores Faltantes</th>\n",
              "      <th>% del total</th>\n",
              "    </tr>\n",
              "  </thead>\n",
              "  <tbody>\n",
              "    <tr>\n",
              "      <th>norecib_7</th>\n",
              "      <td>257804</td>\n",
              "      <td>100.0</td>\n",
              "    </tr>\n",
              "    <tr>\n",
              "      <th>razon_2</th>\n",
              "      <td>257804</td>\n",
              "      <td>100.0</td>\n",
              "    </tr>\n",
              "    <tr>\n",
              "      <th>norecib_10</th>\n",
              "      <td>257803</td>\n",
              "      <td>100.0</td>\n",
              "    </tr>\n",
              "    <tr>\n",
              "      <th>norecib_6</th>\n",
              "      <td>257802</td>\n",
              "      <td>100.0</td>\n",
              "    </tr>\n",
              "    <tr>\n",
              "      <th>noatenc_7</th>\n",
              "      <td>257797</td>\n",
              "      <td>100.0</td>\n",
              "    </tr>\n",
              "    <tr>\n",
              "      <th>...</th>\n",
              "      <td>...</td>\n",
              "      <td>...</td>\n",
              "    </tr>\n",
              "    <tr>\n",
              "      <th>asis_esc</th>\n",
              "      <td>12738</td>\n",
              "      <td>4.9</td>\n",
              "    </tr>\n",
              "    <tr>\n",
              "      <th>alfabetism</th>\n",
              "      <td>12738</td>\n",
              "      <td>4.9</td>\n",
              "    </tr>\n",
              "    <tr>\n",
              "      <th>segpop</th>\n",
              "      <td>147</td>\n",
              "      <td>0.1</td>\n",
              "    </tr>\n",
              "    <tr>\n",
              "      <th>atemed</th>\n",
              "      <td>147</td>\n",
              "      <td>0.1</td>\n",
              "    </tr>\n",
              "    <tr>\n",
              "      <th>peso</th>\n",
              "      <td>147</td>\n",
              "      <td>0.1</td>\n",
              "    </tr>\n",
              "  </tbody>\n",
              "</table>\n",
              "<p>145 rows × 2 columns</p>\n",
              "</div>"
            ],
            "text/plain": [
              "            Valores Faltantes  % del total\n",
              "norecib_7              257804        100.0\n",
              "razon_2                257804        100.0\n",
              "norecib_10             257803        100.0\n",
              "norecib_6              257802        100.0\n",
              "noatenc_7              257797        100.0\n",
              "...                       ...          ...\n",
              "asis_esc                12738          4.9\n",
              "alfabetism              12738          4.9\n",
              "segpop                    147          0.1\n",
              "atemed                    147          0.1\n",
              "peso                      147          0.1\n",
              "\n",
              "[145 rows x 2 columns]"
            ]
          },
          "execution_count": 87,
          "metadata": {},
          "output_type": "execute_result"
        }
      ],
      "source": [
        "missing_values_table(poblacion_copy)"
      ]
    },
    {
      "cell_type": "code",
      "execution_count": null,
      "metadata": {},
      "outputs": [
        {
          "name": "stdout",
          "output_type": "stream",
          "text": [
            "Su DataFrame tiene 16 columnas.\n",
            "Hay 5 columnas que tienen valores faltantes.\n"
          ]
        },
        {
          "data": {
            "text/html": [
              "<div>\n",
              "<style scoped>\n",
              "    .dataframe tbody tr th:only-of-type {\n",
              "        vertical-align: middle;\n",
              "    }\n",
              "\n",
              "    .dataframe tbody tr th {\n",
              "        vertical-align: top;\n",
              "    }\n",
              "\n",
              "    .dataframe thead th {\n",
              "        text-align: right;\n",
              "    }\n",
              "</style>\n",
              "<table border=\"1\" class=\"dataframe\">\n",
              "  <thead>\n",
              "    <tr style=\"text-align: right;\">\n",
              "      <th></th>\n",
              "      <th>Valores Faltantes</th>\n",
              "      <th>% del total</th>\n",
              "    </tr>\n",
              "  </thead>\n",
              "  <tbody>\n",
              "    <tr>\n",
              "      <th>mes_2</th>\n",
              "      <td>6768</td>\n",
              "      <td>15.3</td>\n",
              "    </tr>\n",
              "    <tr>\n",
              "      <th>mes_3</th>\n",
              "      <td>6768</td>\n",
              "      <td>15.3</td>\n",
              "    </tr>\n",
              "    <tr>\n",
              "      <th>mes_4</th>\n",
              "      <td>6768</td>\n",
              "      <td>15.3</td>\n",
              "    </tr>\n",
              "    <tr>\n",
              "      <th>mes_5</th>\n",
              "      <td>6768</td>\n",
              "      <td>15.3</td>\n",
              "    </tr>\n",
              "    <tr>\n",
              "      <th>mes_6</th>\n",
              "      <td>6768</td>\n",
              "      <td>15.3</td>\n",
              "    </tr>\n",
              "  </tbody>\n",
              "</table>\n",
              "</div>"
            ],
            "text/plain": [
              "       Valores Faltantes  % del total\n",
              "mes_2               6768         15.3\n",
              "mes_3               6768         15.3\n",
              "mes_4               6768         15.3\n",
              "mes_5               6768         15.3\n",
              "mes_6               6768         15.3"
            ]
          },
          "execution_count": 88,
          "metadata": {},
          "output_type": "execute_result"
        }
      ],
      "source": [
        "missing_values_table(erogaciones_copy)"
      ]
    },
    {
      "cell_type": "code",
      "execution_count": 90,
      "metadata": {},
      "outputs": [
        {
          "name": "stdout",
          "output_type": "stream",
          "text": [
            "Su DataFrame tiene 27 columnas.\n",
            "Hay 14 columnas que tienen valores faltantes.\n"
          ]
        },
        {
          "data": {
            "text/html": [
              "<div>\n",
              "<style scoped>\n",
              "    .dataframe tbody tr th:only-of-type {\n",
              "        vertical-align: middle;\n",
              "    }\n",
              "\n",
              "    .dataframe tbody tr th {\n",
              "        vertical-align: top;\n",
              "    }\n",
              "\n",
              "    .dataframe thead th {\n",
              "        text-align: right;\n",
              "    }\n",
              "</style>\n",
              "<table border=\"1\" class=\"dataframe\">\n",
              "  <thead>\n",
              "    <tr style=\"text-align: right;\">\n",
              "      <th></th>\n",
              "      <th>Valores Faltantes</th>\n",
              "      <th>% del total</th>\n",
              "    </tr>\n",
              "  </thead>\n",
              "  <tbody>\n",
              "    <tr>\n",
              "      <th>cantidad</th>\n",
              "      <td>1048575</td>\n",
              "      <td>100.0</td>\n",
              "    </tr>\n",
              "    <tr>\n",
              "      <th>costo</th>\n",
              "      <td>1048575</td>\n",
              "      <td>100.0</td>\n",
              "    </tr>\n",
              "    <tr>\n",
              "      <th>gasto_nm</th>\n",
              "      <td>1048575</td>\n",
              "      <td>100.0</td>\n",
              "    </tr>\n",
              "    <tr>\n",
              "      <th>ultim_pago</th>\n",
              "      <td>1048575</td>\n",
              "      <td>100.0</td>\n",
              "    </tr>\n",
              "    <tr>\n",
              "      <th>num_pagos</th>\n",
              "      <td>1048575</td>\n",
              "      <td>100.0</td>\n",
              "    </tr>\n",
              "    <tr>\n",
              "      <th>num_meses</th>\n",
              "      <td>1048575</td>\n",
              "      <td>100.0</td>\n",
              "    </tr>\n",
              "    <tr>\n",
              "      <th>gas_nm_tri</th>\n",
              "      <td>1048575</td>\n",
              "      <td>100.0</td>\n",
              "    </tr>\n",
              "    <tr>\n",
              "      <th>inst_2</th>\n",
              "      <td>1048492</td>\n",
              "      <td>100.0</td>\n",
              "    </tr>\n",
              "    <tr>\n",
              "      <th>inst_1</th>\n",
              "      <td>1005186</td>\n",
              "      <td>95.9</td>\n",
              "    </tr>\n",
              "    <tr>\n",
              "      <th>pago_mp</th>\n",
              "      <td>712320</td>\n",
              "      <td>67.9</td>\n",
              "    </tr>\n",
              "    <tr>\n",
              "      <th>imujer_tri</th>\n",
              "      <td>554571</td>\n",
              "      <td>52.9</td>\n",
              "    </tr>\n",
              "    <tr>\n",
              "      <th>inmujer</th>\n",
              "      <td>554571</td>\n",
              "      <td>52.9</td>\n",
              "    </tr>\n",
              "    <tr>\n",
              "      <th>gasto</th>\n",
              "      <td>8</td>\n",
              "      <td>0.0</td>\n",
              "    </tr>\n",
              "    <tr>\n",
              "      <th>gasto_tri</th>\n",
              "      <td>8</td>\n",
              "      <td>0.0</td>\n",
              "    </tr>\n",
              "  </tbody>\n",
              "</table>\n",
              "</div>"
            ],
            "text/plain": [
              "            Valores Faltantes  % del total\n",
              "cantidad              1048575        100.0\n",
              "costo                 1048575        100.0\n",
              "gasto_nm              1048575        100.0\n",
              "ultim_pago            1048575        100.0\n",
              "num_pagos             1048575        100.0\n",
              "num_meses             1048575        100.0\n",
              "gas_nm_tri            1048575        100.0\n",
              "inst_2                1048492        100.0\n",
              "inst_1                1005186         95.9\n",
              "pago_mp                712320         67.9\n",
              "imujer_tri             554571         52.9\n",
              "inmujer                554571         52.9\n",
              "gasto                       8          0.0\n",
              "gasto_tri                   8          0.0"
            ]
          },
          "execution_count": 90,
          "metadata": {},
          "output_type": "execute_result"
        }
      ],
      "source": [
        "missing_values_table(gastoshogar_copy)"
      ]
    },
    {
      "cell_type": "code",
      "execution_count": 91,
      "metadata": {},
      "outputs": [
        {
          "name": "stdout",
          "output_type": "stream",
          "text": [
            "Su DataFrame tiene 6 columnas.\n",
            "Hay 0 columnas que tienen valores faltantes.\n"
          ]
        },
        {
          "data": {
            "text/html": [
              "<div>\n",
              "<style scoped>\n",
              "    .dataframe tbody tr th:only-of-type {\n",
              "        vertical-align: middle;\n",
              "    }\n",
              "\n",
              "    .dataframe tbody tr th {\n",
              "        vertical-align: top;\n",
              "    }\n",
              "\n",
              "    .dataframe thead th {\n",
              "        text-align: right;\n",
              "    }\n",
              "</style>\n",
              "<table border=\"1\" class=\"dataframe\">\n",
              "  <thead>\n",
              "    <tr style=\"text-align: right;\">\n",
              "      <th></th>\n",
              "      <th>Valores Faltantes</th>\n",
              "      <th>% del total</th>\n",
              "    </tr>\n",
              "  </thead>\n",
              "  <tbody>\n",
              "  </tbody>\n",
              "</table>\n",
              "</div>"
            ],
            "text/plain": [
              "Empty DataFrame\n",
              "Columns: [Valores Faltantes, % del total]\n",
              "Index: []"
            ]
          },
          "execution_count": 91,
          "metadata": {},
          "output_type": "execute_result"
        }
      ],
      "source": [
        "missing_values_table(gastotarjetas_copy)"
      ]
    },
    {
      "cell_type": "code",
      "execution_count": 92,
      "metadata": {},
      "outputs": [
        {
          "name": "stdout",
          "output_type": "stream",
          "text": [
            "Su DataFrame tiene 17 columnas.\n",
            "Hay 6 columnas que tienen valores faltantes.\n"
          ]
        },
        {
          "data": {
            "text/html": [
              "<div>\n",
              "<style scoped>\n",
              "    .dataframe tbody tr th:only-of-type {\n",
              "        vertical-align: middle;\n",
              "    }\n",
              "\n",
              "    .dataframe tbody tr th {\n",
              "        vertical-align: top;\n",
              "    }\n",
              "\n",
              "    .dataframe thead th {\n",
              "        text-align: right;\n",
              "    }\n",
              "</style>\n",
              "<table border=\"1\" class=\"dataframe\">\n",
              "  <thead>\n",
              "    <tr style=\"text-align: right;\">\n",
              "      <th></th>\n",
              "      <th>Valores Faltantes</th>\n",
              "      <th>% del total</th>\n",
              "    </tr>\n",
              "  </thead>\n",
              "  <tbody>\n",
              "    <tr>\n",
              "      <th>mes_1</th>\n",
              "      <td>51731</td>\n",
              "      <td>15.5</td>\n",
              "    </tr>\n",
              "    <tr>\n",
              "      <th>mes_2</th>\n",
              "      <td>51731</td>\n",
              "      <td>15.5</td>\n",
              "    </tr>\n",
              "    <tr>\n",
              "      <th>mes_3</th>\n",
              "      <td>51731</td>\n",
              "      <td>15.5</td>\n",
              "    </tr>\n",
              "    <tr>\n",
              "      <th>mes_4</th>\n",
              "      <td>51731</td>\n",
              "      <td>15.5</td>\n",
              "    </tr>\n",
              "    <tr>\n",
              "      <th>mes_5</th>\n",
              "      <td>51731</td>\n",
              "      <td>15.5</td>\n",
              "    </tr>\n",
              "    <tr>\n",
              "      <th>mes_6</th>\n",
              "      <td>51731</td>\n",
              "      <td>15.5</td>\n",
              "    </tr>\n",
              "  </tbody>\n",
              "</table>\n",
              "</div>"
            ],
            "text/plain": [
              "       Valores Faltantes  % del total\n",
              "mes_1              51731         15.5\n",
              "mes_2              51731         15.5\n",
              "mes_3              51731         15.5\n",
              "mes_4              51731         15.5\n",
              "mes_5              51731         15.5\n",
              "mes_6              51731         15.5"
            ]
          },
          "execution_count": 92,
          "metadata": {},
          "output_type": "execute_result"
        }
      ],
      "source": [
        "missing_values_table(ingresos_enigh_copy)"
      ]
    },
    {
      "cell_type": "code",
      "execution_count": 93,
      "metadata": {},
      "outputs": [
        {
          "name": "stdout",
          "output_type": "stream",
          "text": [
            "Su DataFrame tiene 127 columnas.\n",
            "Hay 0 columnas que tienen valores faltantes.\n"
          ]
        },
        {
          "data": {
            "text/html": [
              "<div>\n",
              "<style scoped>\n",
              "    .dataframe tbody tr th:only-of-type {\n",
              "        vertical-align: middle;\n",
              "    }\n",
              "\n",
              "    .dataframe tbody tr th {\n",
              "        vertical-align: top;\n",
              "    }\n",
              "\n",
              "    .dataframe thead th {\n",
              "        text-align: right;\n",
              "    }\n",
              "</style>\n",
              "<table border=\"1\" class=\"dataframe\">\n",
              "  <thead>\n",
              "    <tr style=\"text-align: right;\">\n",
              "      <th></th>\n",
              "      <th>Valores Faltantes</th>\n",
              "      <th>% del total</th>\n",
              "    </tr>\n",
              "  </thead>\n",
              "  <tbody>\n",
              "  </tbody>\n",
              "</table>\n",
              "</div>"
            ],
            "text/plain": [
              "Empty DataFrame\n",
              "Columns: [Valores Faltantes, % del total]\n",
              "Index: []"
            ]
          },
          "execution_count": 93,
          "metadata": {},
          "output_type": "execute_result"
        }
      ],
      "source": [
        "missing_values_table(concentradohogar_copy)"
      ]
    },
    {
      "cell_type": "code",
      "execution_count": 94,
      "metadata": {},
      "outputs": [
        {
          "name": "stdout",
          "output_type": "stream",
          "text": [
            "Su DataFrame tiene 55 columnas.\n",
            "Hay 45 columnas que tienen valores faltantes.\n"
          ]
        },
        {
          "data": {
            "text/html": [
              "<div>\n",
              "<style scoped>\n",
              "    .dataframe tbody tr th:only-of-type {\n",
              "        vertical-align: middle;\n",
              "    }\n",
              "\n",
              "    .dataframe tbody tr th {\n",
              "        vertical-align: top;\n",
              "    }\n",
              "\n",
              "    .dataframe thead th {\n",
              "        text-align: right;\n",
              "    }\n",
              "</style>\n",
              "<table border=\"1\" class=\"dataframe\">\n",
              "  <thead>\n",
              "    <tr style=\"text-align: right;\">\n",
              "      <th></th>\n",
              "      <th>Valores Faltantes</th>\n",
              "      <th>% del total</th>\n",
              "    </tr>\n",
              "  </thead>\n",
              "  <tbody>\n",
              "    <tr>\n",
              "      <th>tipoact4</th>\n",
              "      <td>132094</td>\n",
              "      <td>100.0</td>\n",
              "    </tr>\n",
              "    <tr>\n",
              "      <th>soc_nr2</th>\n",
              "      <td>132021</td>\n",
              "      <td>99.9</td>\n",
              "    </tr>\n",
              "    <tr>\n",
              "      <th>tipoact3</th>\n",
              "      <td>132005</td>\n",
              "      <td>99.9</td>\n",
              "    </tr>\n",
              "    <tr>\n",
              "      <th>pres_5</th>\n",
              "      <td>131924</td>\n",
              "      <td>99.9</td>\n",
              "    </tr>\n",
              "    <tr>\n",
              "      <th>no_ing</th>\n",
              "      <td>131870</td>\n",
              "      <td>99.8</td>\n",
              "    </tr>\n",
              "    <tr>\n",
              "      <th>pres_4</th>\n",
              "      <td>131753</td>\n",
              "      <td>99.7</td>\n",
              "    </tr>\n",
              "    <tr>\n",
              "      <th>pres_25</th>\n",
              "      <td>131253</td>\n",
              "      <td>99.4</td>\n",
              "    </tr>\n",
              "    <tr>\n",
              "      <th>pres_22</th>\n",
              "      <td>131102</td>\n",
              "      <td>99.2</td>\n",
              "    </tr>\n",
              "    <tr>\n",
              "      <th>pres_3</th>\n",
              "      <td>131017</td>\n",
              "      <td>99.2</td>\n",
              "    </tr>\n",
              "    <tr>\n",
              "      <th>soc_nr1</th>\n",
              "      <td>130357</td>\n",
              "      <td>98.7</td>\n",
              "    </tr>\n",
              "    <tr>\n",
              "      <th>soc_resp</th>\n",
              "      <td>130357</td>\n",
              "      <td>98.7</td>\n",
              "    </tr>\n",
              "    <tr>\n",
              "      <th>pres_6</th>\n",
              "      <td>129448</td>\n",
              "      <td>98.0</td>\n",
              "    </tr>\n",
              "    <tr>\n",
              "      <th>tipoact2</th>\n",
              "      <td>128788</td>\n",
              "      <td>97.5</td>\n",
              "    </tr>\n",
              "    <tr>\n",
              "      <th>lugar</th>\n",
              "      <td>128783</td>\n",
              "      <td>97.5</td>\n",
              "    </tr>\n",
              "    <tr>\n",
              "      <th>conf_pers</th>\n",
              "      <td>128783</td>\n",
              "      <td>97.5</td>\n",
              "    </tr>\n",
              "    <tr>\n",
              "      <th>pres_2</th>\n",
              "      <td>127398</td>\n",
              "      <td>96.4</td>\n",
              "    </tr>\n",
              "    <tr>\n",
              "      <th>pres_18</th>\n",
              "      <td>124373</td>\n",
              "      <td>94.2</td>\n",
              "    </tr>\n",
              "    <tr>\n",
              "      <th>pres_19</th>\n",
              "      <td>123307</td>\n",
              "      <td>93.3</td>\n",
              "    </tr>\n",
              "    <tr>\n",
              "      <th>pres_21</th>\n",
              "      <td>122257</td>\n",
              "      <td>92.6</td>\n",
              "    </tr>\n",
              "    <tr>\n",
              "      <th>pres_12</th>\n",
              "      <td>120783</td>\n",
              "      <td>91.4</td>\n",
              "    </tr>\n",
              "    <tr>\n",
              "      <th>pres_20</th>\n",
              "      <td>120635</td>\n",
              "      <td>91.3</td>\n",
              "    </tr>\n",
              "    <tr>\n",
              "      <th>pres_13</th>\n",
              "      <td>120357</td>\n",
              "      <td>91.1</td>\n",
              "    </tr>\n",
              "    <tr>\n",
              "      <th>pres_24</th>\n",
              "      <td>116427</td>\n",
              "      <td>88.1</td>\n",
              "    </tr>\n",
              "    <tr>\n",
              "      <th>pres_23</th>\n",
              "      <td>114938</td>\n",
              "      <td>87.0</td>\n",
              "    </tr>\n",
              "    <tr>\n",
              "      <th>pres_15</th>\n",
              "      <td>114423</td>\n",
              "      <td>86.6</td>\n",
              "    </tr>\n",
              "    <tr>\n",
              "      <th>pres_10</th>\n",
              "      <td>112574</td>\n",
              "      <td>85.2</td>\n",
              "    </tr>\n",
              "    <tr>\n",
              "      <th>pres_16</th>\n",
              "      <td>111556</td>\n",
              "      <td>84.5</td>\n",
              "    </tr>\n",
              "    <tr>\n",
              "      <th>pres_17</th>\n",
              "      <td>105920</td>\n",
              "      <td>80.2</td>\n",
              "    </tr>\n",
              "    <tr>\n",
              "      <th>pres_7</th>\n",
              "      <td>104853</td>\n",
              "      <td>79.4</td>\n",
              "    </tr>\n",
              "    <tr>\n",
              "      <th>pres_11</th>\n",
              "      <td>103185</td>\n",
              "      <td>78.1</td>\n",
              "    </tr>\n",
              "    <tr>\n",
              "      <th>otra_act</th>\n",
              "      <td>103076</td>\n",
              "      <td>78.0</td>\n",
              "    </tr>\n",
              "    <tr>\n",
              "      <th>pres_14</th>\n",
              "      <td>102935</td>\n",
              "      <td>77.9</td>\n",
              "    </tr>\n",
              "    <tr>\n",
              "      <th>socios</th>\n",
              "      <td>102323</td>\n",
              "      <td>77.5</td>\n",
              "    </tr>\n",
              "    <tr>\n",
              "      <th>tipoact</th>\n",
              "      <td>98812</td>\n",
              "      <td>74.8</td>\n",
              "    </tr>\n",
              "    <tr>\n",
              "      <th>tiene_suel</th>\n",
              "      <td>98812</td>\n",
              "      <td>74.8</td>\n",
              "    </tr>\n",
              "    <tr>\n",
              "      <th>personal</th>\n",
              "      <td>98812</td>\n",
              "      <td>74.8</td>\n",
              "    </tr>\n",
              "    <tr>\n",
              "      <th>indep</th>\n",
              "      <td>98060</td>\n",
              "      <td>74.2</td>\n",
              "    </tr>\n",
              "    <tr>\n",
              "      <th>pres_1</th>\n",
              "      <td>97516</td>\n",
              "      <td>73.8</td>\n",
              "    </tr>\n",
              "    <tr>\n",
              "      <th>pres_9</th>\n",
              "      <td>96642</td>\n",
              "      <td>73.2</td>\n",
              "    </tr>\n",
              "    <tr>\n",
              "      <th>tipocontr</th>\n",
              "      <td>94255</td>\n",
              "      <td>71.4</td>\n",
              "    </tr>\n",
              "    <tr>\n",
              "      <th>pres_8</th>\n",
              "      <td>89296</td>\n",
              "      <td>67.6</td>\n",
              "    </tr>\n",
              "    <tr>\n",
              "      <th>pres_26</th>\n",
              "      <td>88099</td>\n",
              "      <td>66.7</td>\n",
              "    </tr>\n",
              "    <tr>\n",
              "      <th>clas_emp</th>\n",
              "      <td>43145</td>\n",
              "      <td>32.7</td>\n",
              "    </tr>\n",
              "    <tr>\n",
              "      <th>contrato</th>\n",
              "      <td>41040</td>\n",
              "      <td>31.1</td>\n",
              "    </tr>\n",
              "    <tr>\n",
              "      <th>pago</th>\n",
              "      <td>33283</td>\n",
              "      <td>25.2</td>\n",
              "    </tr>\n",
              "  </tbody>\n",
              "</table>\n",
              "</div>"
            ],
            "text/plain": [
              "            Valores Faltantes  % del total\n",
              "tipoact4               132094        100.0\n",
              "soc_nr2                132021         99.9\n",
              "tipoact3               132005         99.9\n",
              "pres_5                 131924         99.9\n",
              "no_ing                 131870         99.8\n",
              "pres_4                 131753         99.7\n",
              "pres_25                131253         99.4\n",
              "pres_22                131102         99.2\n",
              "pres_3                 131017         99.2\n",
              "soc_nr1                130357         98.7\n",
              "soc_resp               130357         98.7\n",
              "pres_6                 129448         98.0\n",
              "tipoact2               128788         97.5\n",
              "lugar                  128783         97.5\n",
              "conf_pers              128783         97.5\n",
              "pres_2                 127398         96.4\n",
              "pres_18                124373         94.2\n",
              "pres_19                123307         93.3\n",
              "pres_21                122257         92.6\n",
              "pres_12                120783         91.4\n",
              "pres_20                120635         91.3\n",
              "pres_13                120357         91.1\n",
              "pres_24                116427         88.1\n",
              "pres_23                114938         87.0\n",
              "pres_15                114423         86.6\n",
              "pres_10                112574         85.2\n",
              "pres_16                111556         84.5\n",
              "pres_17                105920         80.2\n",
              "pres_7                 104853         79.4\n",
              "pres_11                103185         78.1\n",
              "otra_act               103076         78.0\n",
              "pres_14                102935         77.9\n",
              "socios                 102323         77.5\n",
              "tipoact                 98812         74.8\n",
              "tiene_suel              98812         74.8\n",
              "personal                98812         74.8\n",
              "indep                   98060         74.2\n",
              "pres_1                  97516         73.8\n",
              "pres_9                  96642         73.2\n",
              "tipocontr               94255         71.4\n",
              "pres_8                  89296         67.6\n",
              "pres_26                 88099         66.7\n",
              "clas_emp                43145         32.7\n",
              "contrato                41040         31.1\n",
              "pago                    33283         25.2"
            ]
          },
          "execution_count": 94,
          "metadata": {},
          "output_type": "execute_result"
        }
      ],
      "source": [
        "missing_values_table(trabajos_copy)"
      ]
    },
    {
      "cell_type": "code",
      "execution_count": 95,
      "metadata": {},
      "outputs": [],
      "source": [
        "# Eliminar columnas con más del 50% de valores faltantes\n",
        "def drop_missing_values(df):\n",
        "    missing_values = df.isnull().sum() / len(df)\n",
        "    missing_values = missing_values[missing_values > 0.50].index\n",
        "    df = df.drop(missing_values, axis=1)\n",
        "    return df\n",
        "\n",
        "hogares_copy = drop_missing_values(hogares_copy)\n",
        "viviendas_copy = drop_missing_values(viviendas_copy)\n",
        "poblacion_copy = drop_missing_values(poblacion_copy)\n",
        "erogaciones_copy = drop_missing_values(erogaciones_copy)\n",
        "gastoshogar_copy = drop_missing_values(gastoshogar_copy)\n",
        "gastotarjetas_copy = drop_missing_values(gastotarjetas_copy)\n",
        "ingresos_enigh_copy = drop_missing_values(ingresos_enigh_copy)\n",
        "concentradohogar_copy = drop_missing_values(concentradohogar_copy)\n",
        "trabajos_copy = drop_missing_values(trabajos_copy)"
      ]
    },
    {
      "cell_type": "code",
      "execution_count": 96,
      "metadata": {},
      "outputs": [
        {
          "name": "stdout",
          "output_type": "stream",
          "text": [
            "Hogares: (70311, 86)\n",
            "Viviendas: (69169, 64)\n",
            "Población: (257805, 64)\n",
            "Erogaciones: (44334, 16)\n",
            "Gastos Hogar: (1048575, 15)\n",
            "Gastos Tarjetas: (9976, 6)\n",
            "Ingresos: (334337, 17)\n",
            "Concentrado Hogar: (70311, 127)\n",
            "Trabajos: (132095, 13)\n"
          ]
        }
      ],
      "source": [
        "# Dimensiones de los datos\n",
        "print('Hogares:', hogares_copy.shape)\n",
        "print('Viviendas:', viviendas_copy.shape)\n",
        "print('Población:', poblacion_copy.shape)\n",
        "print('Erogaciones:', erogaciones_copy.shape)\n",
        "print('Gastos Hogar:', gastoshogar_copy.shape)\n",
        "print('Gastos Tarjetas:', gastotarjetas_copy.shape)\n",
        "print('Ingresos:', ingresos_enigh_copy.shape)\n",
        "print('Concentrado Hogar:', concentradohogar_copy.shape)\n",
        "print('Trabajos:', trabajos_copy.shape)"
      ]
    },
    {
      "cell_type": "code",
      "execution_count": 99,
      "metadata": {},
      "outputs": [
        {
          "ename": "MergeError",
          "evalue": "Passing 'suffixes' which cause duplicate columns {'foliohog_x'} is not allowed.",
          "output_type": "error",
          "traceback": [
            "\u001b[1;31m---------------------------------------------------------------------------\u001b[0m",
            "\u001b[1;31mMergeError\u001b[0m                                Traceback (most recent call last)",
            "Cell \u001b[1;32mIn[99], line 5\u001b[0m\n\u001b[0;32m      3\u001b[0m viviendas_hogares_poblacion \u001b[38;5;241m=\u001b[39m pd\u001b[38;5;241m.\u001b[39mmerge(viviendas_hogares, poblacion_copy, on\u001b[38;5;241m=\u001b[39m\u001b[38;5;124m'\u001b[39m\u001b[38;5;124mfolioviv\u001b[39m\u001b[38;5;124m'\u001b[39m, how\u001b[38;5;241m=\u001b[39m\u001b[38;5;124m'\u001b[39m\u001b[38;5;124minner\u001b[39m\u001b[38;5;124m'\u001b[39m)\n\u001b[0;32m      4\u001b[0m viviendas_hogares_poblacion_erogaciones \u001b[38;5;241m=\u001b[39m pd\u001b[38;5;241m.\u001b[39mmerge(viviendas_hogares_poblacion, erogaciones_copy, on\u001b[38;5;241m=\u001b[39m\u001b[38;5;124m'\u001b[39m\u001b[38;5;124mfolioviv\u001b[39m\u001b[38;5;124m'\u001b[39m, how\u001b[38;5;241m=\u001b[39m\u001b[38;5;124m'\u001b[39m\u001b[38;5;124minner\u001b[39m\u001b[38;5;124m'\u001b[39m)\n\u001b[1;32m----> 5\u001b[0m viviendas_hogares_poblacion_erogaciones_gastoshogar \u001b[38;5;241m=\u001b[39m \u001b[43mpd\u001b[49m\u001b[38;5;241;43m.\u001b[39;49m\u001b[43mmerge\u001b[49m\u001b[43m(\u001b[49m\u001b[43mviviendas_hogares_poblacion_erogaciones\u001b[49m\u001b[43m,\u001b[49m\u001b[43m \u001b[49m\u001b[43mgastoshogar_copy\u001b[49m\u001b[43m,\u001b[49m\u001b[43m \u001b[49m\u001b[43mon\u001b[49m\u001b[38;5;241;43m=\u001b[39;49m\u001b[38;5;124;43m'\u001b[39;49m\u001b[38;5;124;43mfolioviv\u001b[39;49m\u001b[38;5;124;43m'\u001b[39;49m\u001b[43m,\u001b[49m\u001b[43m \u001b[49m\u001b[43mhow\u001b[49m\u001b[38;5;241;43m=\u001b[39;49m\u001b[38;5;124;43m'\u001b[39;49m\u001b[38;5;124;43minner\u001b[39;49m\u001b[38;5;124;43m'\u001b[39;49m\u001b[43m)\u001b[49m\n\u001b[0;32m      6\u001b[0m viviendas_hogares_poblacion_erogaciones_gastoshogar_gastotarjetas \u001b[38;5;241m=\u001b[39m pd\u001b[38;5;241m.\u001b[39mmerge(viviendas_hogares_poblacion_erogaciones_gastoshogar, gastotarjetas_copy, on\u001b[38;5;241m=\u001b[39m\u001b[38;5;124m'\u001b[39m\u001b[38;5;124mfolioviv\u001b[39m\u001b[38;5;124m'\u001b[39m, how\u001b[38;5;241m=\u001b[39m\u001b[38;5;124m'\u001b[39m\u001b[38;5;124minner\u001b[39m\u001b[38;5;124m'\u001b[39m)\n\u001b[0;32m      7\u001b[0m viviendas_hogares_poblacion_erogaciones_gastoshogar_gastotarjetas_ingresos \u001b[38;5;241m=\u001b[39m pd\u001b[38;5;241m.\u001b[39mmerge(viviendas_hogares_poblacion_erogaciones_gastoshogar_gastotarjetas, ingresos_enigh_copy, on\u001b[38;5;241m=\u001b[39m\u001b[38;5;124m'\u001b[39m\u001b[38;5;124mfolioviv\u001b[39m\u001b[38;5;124m'\u001b[39m, how\u001b[38;5;241m=\u001b[39m\u001b[38;5;124m'\u001b[39m\u001b[38;5;124minner\u001b[39m\u001b[38;5;124m'\u001b[39m)\n",
            "File \u001b[1;32mc:\\Users\\oscar\\AppData\\Local\\Programs\\Python\\Python312\\Lib\\site-packages\\pandas\\core\\reshape\\merge.py:184\u001b[0m, in \u001b[0;36mmerge\u001b[1;34m(left, right, how, on, left_on, right_on, left_index, right_index, sort, suffixes, copy, indicator, validate)\u001b[0m\n\u001b[0;32m    169\u001b[0m \u001b[38;5;28;01melse\u001b[39;00m:\n\u001b[0;32m    170\u001b[0m     op \u001b[38;5;241m=\u001b[39m _MergeOperation(\n\u001b[0;32m    171\u001b[0m         left_df,\n\u001b[0;32m    172\u001b[0m         right_df,\n\u001b[1;32m   (...)\u001b[0m\n\u001b[0;32m    182\u001b[0m         validate\u001b[38;5;241m=\u001b[39mvalidate,\n\u001b[0;32m    183\u001b[0m     )\n\u001b[1;32m--> 184\u001b[0m     \u001b[38;5;28;01mreturn\u001b[39;00m \u001b[43mop\u001b[49m\u001b[38;5;241;43m.\u001b[39;49m\u001b[43mget_result\u001b[49m\u001b[43m(\u001b[49m\u001b[43mcopy\u001b[49m\u001b[38;5;241;43m=\u001b[39;49m\u001b[43mcopy\u001b[49m\u001b[43m)\u001b[49m\n",
            "File \u001b[1;32mc:\\Users\\oscar\\AppData\\Local\\Programs\\Python\\Python312\\Lib\\site-packages\\pandas\\core\\reshape\\merge.py:888\u001b[0m, in \u001b[0;36m_MergeOperation.get_result\u001b[1;34m(self, copy)\u001b[0m\n\u001b[0;32m    884\u001b[0m     \u001b[38;5;28mself\u001b[39m\u001b[38;5;241m.\u001b[39mleft, \u001b[38;5;28mself\u001b[39m\u001b[38;5;241m.\u001b[39mright \u001b[38;5;241m=\u001b[39m \u001b[38;5;28mself\u001b[39m\u001b[38;5;241m.\u001b[39m_indicator_pre_merge(\u001b[38;5;28mself\u001b[39m\u001b[38;5;241m.\u001b[39mleft, \u001b[38;5;28mself\u001b[39m\u001b[38;5;241m.\u001b[39mright)\n\u001b[0;32m    886\u001b[0m join_index, left_indexer, right_indexer \u001b[38;5;241m=\u001b[39m \u001b[38;5;28mself\u001b[39m\u001b[38;5;241m.\u001b[39m_get_join_info()\n\u001b[1;32m--> 888\u001b[0m result \u001b[38;5;241m=\u001b[39m \u001b[38;5;28;43mself\u001b[39;49m\u001b[38;5;241;43m.\u001b[39;49m\u001b[43m_reindex_and_concat\u001b[49m\u001b[43m(\u001b[49m\n\u001b[0;32m    889\u001b[0m \u001b[43m    \u001b[49m\u001b[43mjoin_index\u001b[49m\u001b[43m,\u001b[49m\u001b[43m \u001b[49m\u001b[43mleft_indexer\u001b[49m\u001b[43m,\u001b[49m\u001b[43m \u001b[49m\u001b[43mright_indexer\u001b[49m\u001b[43m,\u001b[49m\u001b[43m \u001b[49m\u001b[43mcopy\u001b[49m\u001b[38;5;241;43m=\u001b[39;49m\u001b[43mcopy\u001b[49m\n\u001b[0;32m    890\u001b[0m \u001b[43m\u001b[49m\u001b[43m)\u001b[49m\n\u001b[0;32m    891\u001b[0m result \u001b[38;5;241m=\u001b[39m result\u001b[38;5;241m.\u001b[39m__finalize__(\u001b[38;5;28mself\u001b[39m, method\u001b[38;5;241m=\u001b[39m\u001b[38;5;28mself\u001b[39m\u001b[38;5;241m.\u001b[39m_merge_type)\n\u001b[0;32m    893\u001b[0m \u001b[38;5;28;01mif\u001b[39;00m \u001b[38;5;28mself\u001b[39m\u001b[38;5;241m.\u001b[39mindicator:\n",
            "File \u001b[1;32mc:\\Users\\oscar\\AppData\\Local\\Programs\\Python\\Python312\\Lib\\site-packages\\pandas\\core\\reshape\\merge.py:840\u001b[0m, in \u001b[0;36m_MergeOperation._reindex_and_concat\u001b[1;34m(self, join_index, left_indexer, right_indexer, copy)\u001b[0m\n\u001b[0;32m    837\u001b[0m left \u001b[38;5;241m=\u001b[39m \u001b[38;5;28mself\u001b[39m\u001b[38;5;241m.\u001b[39mleft[:]\n\u001b[0;32m    838\u001b[0m right \u001b[38;5;241m=\u001b[39m \u001b[38;5;28mself\u001b[39m\u001b[38;5;241m.\u001b[39mright[:]\n\u001b[1;32m--> 840\u001b[0m llabels, rlabels \u001b[38;5;241m=\u001b[39m \u001b[43m_items_overlap_with_suffix\u001b[49m\u001b[43m(\u001b[49m\n\u001b[0;32m    841\u001b[0m \u001b[43m    \u001b[49m\u001b[38;5;28;43mself\u001b[39;49m\u001b[38;5;241;43m.\u001b[39;49m\u001b[43mleft\u001b[49m\u001b[38;5;241;43m.\u001b[39;49m\u001b[43m_info_axis\u001b[49m\u001b[43m,\u001b[49m\u001b[43m \u001b[49m\u001b[38;5;28;43mself\u001b[39;49m\u001b[38;5;241;43m.\u001b[39;49m\u001b[43mright\u001b[49m\u001b[38;5;241;43m.\u001b[39;49m\u001b[43m_info_axis\u001b[49m\u001b[43m,\u001b[49m\u001b[43m \u001b[49m\u001b[38;5;28;43mself\u001b[39;49m\u001b[38;5;241;43m.\u001b[39;49m\u001b[43msuffixes\u001b[49m\n\u001b[0;32m    842\u001b[0m \u001b[43m\u001b[49m\u001b[43m)\u001b[49m\n\u001b[0;32m    844\u001b[0m \u001b[38;5;28;01mif\u001b[39;00m left_indexer \u001b[38;5;129;01mis\u001b[39;00m \u001b[38;5;129;01mnot\u001b[39;00m \u001b[38;5;28;01mNone\u001b[39;00m \u001b[38;5;129;01mand\u001b[39;00m \u001b[38;5;129;01mnot\u001b[39;00m is_range_indexer(left_indexer, \u001b[38;5;28mlen\u001b[39m(left)):\n\u001b[0;32m    845\u001b[0m     \u001b[38;5;66;03m# Pinning the index here (and in the right code just below) is not\u001b[39;00m\n\u001b[0;32m    846\u001b[0m     \u001b[38;5;66;03m#  necessary, but makes the `.take` more performant if we have e.g.\u001b[39;00m\n\u001b[0;32m    847\u001b[0m     \u001b[38;5;66;03m#  a MultiIndex for left.index.\u001b[39;00m\n\u001b[0;32m    848\u001b[0m     lmgr \u001b[38;5;241m=\u001b[39m left\u001b[38;5;241m.\u001b[39m_mgr\u001b[38;5;241m.\u001b[39mreindex_indexer(\n\u001b[0;32m    849\u001b[0m         join_index,\n\u001b[0;32m    850\u001b[0m         left_indexer,\n\u001b[1;32m   (...)\u001b[0m\n\u001b[0;32m    855\u001b[0m         use_na_proxy\u001b[38;5;241m=\u001b[39m\u001b[38;5;28;01mTrue\u001b[39;00m,\n\u001b[0;32m    856\u001b[0m     )\n",
            "File \u001b[1;32mc:\\Users\\oscar\\AppData\\Local\\Programs\\Python\\Python312\\Lib\\site-packages\\pandas\\core\\reshape\\merge.py:2757\u001b[0m, in \u001b[0;36m_items_overlap_with_suffix\u001b[1;34m(left, right, suffixes)\u001b[0m\n\u001b[0;32m   2755\u001b[0m     dups\u001b[38;5;241m.\u001b[39mextend(rlabels[(rlabels\u001b[38;5;241m.\u001b[39mduplicated()) \u001b[38;5;241m&\u001b[39m (\u001b[38;5;241m~\u001b[39mright\u001b[38;5;241m.\u001b[39mduplicated())]\u001b[38;5;241m.\u001b[39mtolist())\n\u001b[0;32m   2756\u001b[0m \u001b[38;5;28;01mif\u001b[39;00m dups:\n\u001b[1;32m-> 2757\u001b[0m     \u001b[38;5;28;01mraise\u001b[39;00m MergeError(\n\u001b[0;32m   2758\u001b[0m         \u001b[38;5;124mf\u001b[39m\u001b[38;5;124m\"\u001b[39m\u001b[38;5;124mPassing \u001b[39m\u001b[38;5;124m'\u001b[39m\u001b[38;5;124msuffixes\u001b[39m\u001b[38;5;124m'\u001b[39m\u001b[38;5;124m which cause duplicate columns \u001b[39m\u001b[38;5;132;01m{\u001b[39;00m\u001b[38;5;28mset\u001b[39m(dups)\u001b[38;5;132;01m}\u001b[39;00m\u001b[38;5;124m is \u001b[39m\u001b[38;5;124m\"\u001b[39m\n\u001b[0;32m   2759\u001b[0m         \u001b[38;5;124mf\u001b[39m\u001b[38;5;124m\"\u001b[39m\u001b[38;5;124mnot allowed.\u001b[39m\u001b[38;5;124m\"\u001b[39m,\n\u001b[0;32m   2760\u001b[0m     )\n\u001b[0;32m   2762\u001b[0m \u001b[38;5;28;01mreturn\u001b[39;00m llabels, rlabels\n",
            "\u001b[1;31mMergeError\u001b[0m: Passing 'suffixes' which cause duplicate columns {'foliohog_x'} is not allowed."
          ]
        }
      ],
      "source": [
        "# unir datasets en base a la columna folioviv ignorando columnas duplicadas\n",
        "viviendas_hogares = pd.merge(viviendas_copy, hogares_copy, on='folioviv', how='inner')\n",
        "viviendas_hogares_poblacion = pd.merge(viviendas_hogares, poblacion_copy, on='folioviv', how='inner')\n",
        "viviendas_hogares_poblacion_erogaciones = pd.merge(viviendas_hogares_poblacion, erogaciones_copy, on='folioviv', how='inner')\n",
        "viviendas_hogares_poblacion_erogaciones_gastoshogar = pd.merge(viviendas_hogares_poblacion_erogaciones, gastoshogar_copy, on='folioviv', how='inner')\n",
        "viviendas_hogares_poblacion_erogaciones_gastoshogar_gastotarjetas = pd.merge(viviendas_hogares_poblacion_erogaciones_gastoshogar, gastotarjetas_copy, on='folioviv', how='inner')\n",
        "viviendas_hogares_poblacion_erogaciones_gastoshogar_gastotarjetas_ingresos = pd.merge(viviendas_hogares_poblacion_erogaciones_gastoshogar_gastotarjetas, ingresos_enigh_copy, on='folioviv', how='inner')\n",
        "viviendas_hogares_poblacion_erogaciones_gastoshogar_gastotarjetas_ingresos_concentradohogar = pd.merge(viviendas_hogares_poblacion_erogaciones_gastoshogar_gastotarjetas_ingresos, concentradohogar_copy, on='folioviv', how='inner')\n",
        "total = pd.merge(viviendas_hogares_poblacion_erogaciones_gastoshogar_gastotarjetas_ingresos_concentradohogar, trabajos_copy, on='folioviv', how='inner')\n",
        "\n",
        "# Dimensiones de los datos\n",
        "print('Total:', total.shape)"
      ]
    },
    {
      "cell_type": "markdown",
      "metadata": {
        "id": "Vm1UNHt7M5z4"
      },
      "source": [
        "##### *Análisis Numérico*"
      ]
    },
    {
      "cell_type": "markdown",
      "metadata": {
        "id": "zZDOJN0wM8Eb"
      },
      "source": [
        "**e.** **Descripción** del conjunto de datos (Medidas, Maximos, Minimos y cuartiles)"
      ]
    },
    {
      "cell_type": "markdown",
      "metadata": {
        "id": "WfcpvqrSN3nM"
      },
      "source": [
        "#### **2° Scalation**"
      ]
    }
  ],
  "metadata": {
    "colab": {
      "provenance": []
    },
    "kernelspec": {
      "display_name": "Python 3",
      "name": "python3"
    },
    "language_info": {
      "codemirror_mode": {
        "name": "ipython",
        "version": 3
      },
      "file_extension": ".py",
      "mimetype": "text/x-python",
      "name": "python",
      "nbconvert_exporter": "python",
      "pygments_lexer": "ipython3",
      "version": "3.12.6"
    }
  },
  "nbformat": 4,
  "nbformat_minor": 0
}
