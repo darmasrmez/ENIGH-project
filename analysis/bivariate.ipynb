{
 "cells": [
  {
   "cell_type": "markdown",
   "metadata": {},
   "source": [
    "# Bivarite analysis\n",
    "\n",
    "> Daniel Armas Ramirez"
   ]
  },
  {
   "cell_type": "code",
   "execution_count": 1,
   "metadata": {},
   "outputs": [],
   "source": [
    "import numpy as np\n",
    "import pandas as pd\n",
    "import matplotlib.pyplot as plt"
   ]
  },
  {
   "cell_type": "code",
   "execution_count": 3,
   "metadata": {},
   "outputs": [
    {
     "name": "stderr",
     "output_type": "stream",
     "text": [
      "C:\\Users\\magui\\AppData\\Local\\Temp\\ipykernel_19516\\1168657433.py:1: DtypeWarning: Columns (40,42,44,48,50,58,60,62,64,72,74,76,78,80,82,84,88,92,96) have mixed types. Specify dtype option on import or set low_memory=False.\n",
      "  hogares = pd.read_csv('../datasets-ENIGH/conjunto_de_datos_hogares_enigh_2016_ns/conjunto_de_datos/conjunto_de_datos_hogares_enigh_2016_ns.csv')\n",
      "C:\\Users\\magui\\AppData\\Local\\Temp\\ipykernel_19516\\1168657433.py:2: DtypeWarning: Columns (4) have mixed types. Specify dtype option on import or set low_memory=False.\n",
      "  viviendas = pd.read_csv('../datasets-ENIGH/conjunto_de_datos_viviendas_enigh_2016_ns/conjunto_de_datos/conjunto_de_datos_viviendas_enigh_2016_ns.csv')\n",
      "C:\\Users\\magui\\AppData\\Local\\Temp\\ipykernel_19516\\1168657433.py:3: DtypeWarning: Columns (46) have mixed types. Specify dtype option on import or set low_memory=False.\n",
      "  poblacion = pd.read_csv('../datasets-ENIGH/conjunto_de_datos_poblacion_enigh_2016_ns/conjunto_de_datos/conjunto_de_datos_poblacion_enigh_2016_ns.csv')\n"
     ]
    }
   ],
   "source": [
    "hogares = pd.read_csv('../datasets-ENIGH/conjunto_de_datos_hogares_enigh_2016_ns/conjunto_de_datos/conjunto_de_datos_hogares_enigh_2016_ns.csv')\n",
    "viviendas = pd.read_csv('../datasets-ENIGH/conjunto_de_datos_viviendas_enigh_2016_ns/conjunto_de_datos/conjunto_de_datos_viviendas_enigh_2016_ns.csv')\n",
    "poblacion = pd.read_csv('../datasets-ENIGH/conjunto_de_datos_poblacion_enigh_2016_ns/conjunto_de_datos/conjunto_de_datos_poblacion_enigh_2016_ns.csv')\n",
    "\n",
    "# Datos Económicos\n",
    "erogaciones = pd.read_csv('../datasets-ENIGH/conjunto_de_datos_erogaciones_enigh_2016_ns/conjunto_de_datos/conjunto_de_datos_erogaciones_enigh_2016_ns.csv')\n",
    "gastoshogar = pd.read_csv('../datasets-ENIGH/conjunto_de_datos_gastoshogar_enigh_2016_ns/conjunto_de_datos/conjunto_de_datos_gastoshogar_enigh_2016_ns.csv')\n",
    "gastotarjetas = pd.read_csv('../datasets-ENIGH/conjunto_de_datos_gastotarjetas_enigh_2016_ns/conjunto_de_datos/conjunto_de_datos_gastotarjetas_enigh_2016_ns.csv')\n",
    "\n",
    "# Datos de Ingresos\n",
    "ingresos_enigh = pd.read_csv('../datasets-ENIGH/conjunto_de_datos_ingresos_enigh_2016_ns/conjunto_de_datos/conjunto_de_datos_ingresos_enigh_2016_ns.csv')\n",
    "\n",
    "# Datos Totales de ingresos\n",
    "concentradohogar = pd.read_csv('../datasets-ENIGH/conjunto_de_datos_concentradohogar_enigh_2016_ns/conjunto_de_datos/conjunto_de_datos_concentradohogar_enigh_2016_ns.csv')\n",
    "\n",
    "# Datos sobre trabajo\n",
    "trabajos = pd.read_csv('../datasets-ENIGH/conjunto_de_datos_trabajos_enigh_2016_ns/conjunto_de_datos/conjunto_de_datos_trabajos_enigh_2016_ns.csv')"
   ]
  },
  {
   "cell_type": "markdown",
   "metadata": {},
   "source": [
    "## Data Cleaning"
   ]
  },
  {
   "cell_type": "code",
   "execution_count": 4,
   "metadata": {},
   "outputs": [],
   "source": [
    "def keep_columns(df, columns):\n",
    "    df = df[columns]\n",
    "    print('Columnas seleccionadas:', df.columns.values)\n",
    "    return df"
   ]
  },
  {
   "cell_type": "code",
   "execution_count": 5,
   "metadata": {},
   "outputs": [
    {
     "name": "stdout",
     "output_type": "stream",
     "text": [
      "Columnas seleccionadas: ['folioviv' 'foliohog' 'acc_alim1' 'acc_alim2' 'telefono' 'celular'\n",
      " 'tv_paga' 'conex_inte' 'num_auto' 'num_van' 'num_pickup' 'num_moto'\n",
      " 'num_otro' 'num_tvd' 'num_compu' 'consumo' 'regalotar' 'regalodado'\n",
      " 'est_alim' 'est_trans' 'diconsa' 'otro_pago']\n"
     ]
    }
   ],
   "source": [
    "columnas_necesarias_hogares = ['folioviv', 'foliohog', 'acc_alim1', 'acc_alim2', 'telefono', 'celular', 'tv_paga', 'conex_inte', 'num_auto','num_van', \n",
    "                       'num_pickup','num_moto', 'num_otro','num_tvd', 'num_compu', 'consumo', 'regalotar', 'regalodado', 'est_alim', 'est_trans',\n",
    "                       'diconsa', 'otro_pago']\n",
    "\n",
    "hogares = keep_columns(hogares, columnas_necesarias_hogares)"
   ]
  },
  {
   "cell_type": "code",
   "execution_count": 6,
   "metadata": {},
   "outputs": [
    {
     "name": "stdout",
     "output_type": "stream",
     "text": [
      "Columnas seleccionadas: ['folioviv' 'antiguedad' 'disp_agua' 'disp_elect' 'tenencia' 'renta'\n",
      " 'estim_pago' 'pago_viv' 'pago_mesp' 'tipo_adqui' 'viv_usada' 'tipo_finan'\n",
      " 'escrituras' 'tot_resid' 'tot_hom' 'tot_muj' 'tot_hog' 'ubica_geo'\n",
      " 'tam_loc' 'est_socio']\n"
     ]
    }
   ],
   "source": [
    "columnas_necesarias_viviendas = ['folioviv', 'antiguedad', 'disp_agua', 'disp_elect', 'tenencia', 'renta', 'estim_pago', 'pago_viv',\n",
    "                                 'pago_mesp', 'tipo_adqui', 'viv_usada', 'tipo_finan', 'escrituras', 'tot_resid', 'tot_hom', 'tot_muj',\n",
    "                                 'tot_hog', 'ubica_geo', 'tam_loc', 'est_socio']\n",
    "\n",
    "viviendas = keep_columns(viviendas, columnas_necesarias_viviendas)"
   ]
  },
  {
   "cell_type": "code",
   "execution_count": 7,
   "metadata": {},
   "outputs": [
    {
     "name": "stdout",
     "output_type": "stream",
     "text": [
      "Columnas seleccionadas: ['folioviv' 'foliohog' 'numren' 'edad' 'disc1' 'disc2' 'causa1' 'causa2'\n",
      " 'hablaind' 'alfabetism' 'nivel' 'tiene_c' 'forma_c' 'nivelaprob'\n",
      " 'edo_conyug' 'pareja_hog' 'hor_1' 'usotiempo2' 'usotiempo6' 'hor_8'\n",
      " 'atemed' 'noatenc_2' 'peso' 'segvol_3' 'hijos_viv' 'num_trabaj']\n"
     ]
    }
   ],
   "source": [
    "columnas_necesarias_poblacion = ['folioviv', 'foliohog', 'numren', 'edad', 'disc1', 'disc2', 'causa1', 'causa2', 'hablaind', 'alfabetism', \n",
    "                                 'nivel', 'tiene_c', 'forma_c', 'nivelaprob', 'edo_conyug', 'pareja_hog', 'hor_1', 'usotiempo2', 'usotiempo6', \n",
    "                                 'hor_8', 'atemed', 'noatenc_2', 'peso', 'segvol_3', 'hijos_viv', 'num_trabaj']\n",
    "\n",
    "poblacion = keep_columns(poblacion, columnas_necesarias_poblacion)"
   ]
  },
  {
   "cell_type": "code",
   "execution_count": 8,
   "metadata": {},
   "outputs": [
    {
     "name": "stdout",
     "output_type": "stream",
     "text": [
      "Columnas seleccionadas: ['folioviv' 'foliohog' 'clave' 'ero_1' 'ero_2' 'ero_3' 'ero_4' 'ero_5'\n",
      " 'ero_6']\n"
     ]
    }
   ],
   "source": [
    "columnas_necesarias_erogaciones = ['folioviv', 'foliohog', 'clave','ero_1', 'ero_2', 'ero_3', 'ero_4', 'ero_5', 'ero_6']\n",
    "\n",
    "erogaciones = keep_columns(erogaciones, columnas_necesarias_erogaciones)"
   ]
  },
  {
   "cell_type": "code",
   "execution_count": 9,
   "metadata": {},
   "outputs": [
    {
     "name": "stdout",
     "output_type": "stream",
     "text": [
      "Columnas seleccionadas: ['folioviv' 'foliohog' 'gasto' 'pago_mp' 'costo' 'inmujer' 'gasto_tri'\n",
      " 'gasto_nm' 'gas_nm_tri' 'imujer_tri']\n"
     ]
    }
   ],
   "source": [
    "columnas_necesarias_gastoshogar = ['folioviv', 'foliohog', 'gasto', 'pago_mp', 'costo', 'inmujer', 'gasto_tri', 'gasto_nm', 'gas_nm_tri', \n",
    "                                   'imujer_tri']\n",
    "\n",
    "gastoshogar = keep_columns(gastoshogar, columnas_necesarias_gastoshogar)"
   ]
  },
  {
   "cell_type": "code",
   "execution_count": 10,
   "metadata": {},
   "outputs": [
    {
     "name": "stdout",
     "output_type": "stream",
     "text": [
      "Columnas seleccionadas: ['folioviv' 'foliohog' 'gasto' 'pago_mp' 'gasto_tri']\n"
     ]
    }
   ],
   "source": [
    "columnas_necesarias_gastotarjetas = ['folioviv', 'foliohog', 'gasto', 'pago_mp', 'gasto_tri' ]\n",
    "\n",
    "gastotarjetas = keep_columns(gastotarjetas, columnas_necesarias_gastotarjetas)"
   ]
  },
  {
   "cell_type": "code",
   "execution_count": 11,
   "metadata": {},
   "outputs": [
    {
     "name": "stdout",
     "output_type": "stream",
     "text": [
      "Columnas seleccionadas: ['folioviv' 'foliohog' 'numren' 'clave' 'mes_1' 'mes_2' 'mes_3' 'mes_4'\n",
      " 'mes_5' 'mes_6' 'ing_1' 'ing_2' 'ing_3' 'ing_4' 'ing_5' 'ing_6' 'ing_tri']\n"
     ]
    }
   ],
   "source": [
    "columnas_necesarias_ingresos = ['folioviv', 'foliohog', 'numren', 'clave', 'mes_1', 'mes_2', 'mes_3', 'mes_4', 'mes_5', 'mes_6', \n",
    "                                'ing_1', 'ing_2', 'ing_3', 'ing_4', 'ing_5', 'ing_6', 'ing_tri']\n",
    "\n",
    "ingresos_enigh = keep_columns(ingresos_enigh, columnas_necesarias_ingresos)"
   ]
  },
  {
   "cell_type": "code",
   "execution_count": 12,
   "metadata": {},
   "outputs": [
    {
     "name": "stdout",
     "output_type": "stream",
     "text": [
      "Columnas seleccionadas: ['folioviv' 'foliohog' 'est_socio' 'factor' 'clase_hog' 'sexo_jefe'\n",
      " 'tot_integ' 'ocupados' 'ingtrab' 'trabajo' 'sueldos' 'deposito' 'deudas'\n",
      " 'balance' 'otras_erog' 'otros_ing' 'gasto_mon' 'vivienda' 'smg']\n"
     ]
    }
   ],
   "source": [
    "columnas_necesarias_concentradohogar = ['folioviv', 'foliohog','est_socio', 'factor', 'clase_hog', 'sexo_jefe', 'tot_integ', 'ocupados', \n",
    "                                        'ingtrab', 'trabajo', 'sueldos', 'deposito', 'deudas', 'balance', 'otras_erog', 'otros_ing', \n",
    "                                        'gasto_mon','vivienda','smg']\n",
    "\n",
    "concentradohogar = keep_columns(concentradohogar, columnas_necesarias_concentradohogar)"
   ]
  },
  {
   "cell_type": "code",
   "execution_count": 13,
   "metadata": {},
   "outputs": [
    {
     "name": "stdout",
     "output_type": "stream",
     "text": [
      "Columnas seleccionadas: ['folioviv' 'foliohog' 'id_trabajo' 'trapais' 'pago' 'pres_8' 'pres_10'\n",
      " 'pres_11' 'pres_16' 'pres_26' 'htrab' 'sinco' 'scian' 'clas_emp'\n",
      " 'tam_emp' 'tiene_suel' 'tipoact']\n"
     ]
    }
   ],
   "source": [
    "columnas_necesarias_trabajos = ['folioviv', 'foliohog', 'id_trabajo', 'trapais', 'pago', 'pres_8', 'pres_10', 'pres_11', 'pres_16', 'pres_26', \n",
    "                                'htrab', 'sinco', 'scian', 'clas_emp', 'tam_emp','tiene_suel', 'tipoact']\n",
    "\n",
    "trabajos = keep_columns(trabajos, columnas_necesarias_trabajos)"
   ]
  },
  {
   "cell_type": "code",
   "execution_count": 14,
   "metadata": {},
   "outputs": [],
   "source": [
    "def drop_missing_values(df):\n",
    "    missing_values = df.isnull().sum() / len(df)\n",
    "    missing_values = missing_values[missing_values > 0.40].index\n",
    "    df = df.drop(missing_values, axis=1)\n",
    "    return df\n",
    "\n",
    "hogares = drop_missing_values(hogares)\n",
    "viviendas = drop_missing_values(viviendas)\n",
    "poblacion = drop_missing_values(poblacion)\n",
    "erogaciones = drop_missing_values(erogaciones)\n",
    "gastoshogar = drop_missing_values(gastoshogar)\n",
    "gastotarjetas = drop_missing_values(gastotarjetas)\n",
    "ingresos_enigh = drop_missing_values(ingresos_enigh)\n",
    "concentradohogar = drop_missing_values(concentradohogar)\n",
    "trabajos = drop_missing_values(trabajos)"
   ]
  },
  {
   "cell_type": "markdown",
   "metadata": {},
   "source": [
    "### Merge data"
   ]
  },
  {
   "cell_type": "code",
   "execution_count": 15,
   "metadata": {},
   "outputs": [
    {
     "ename": "MemoryError",
     "evalue": "Unable to allocate 564. MiB for an array with shape (6, 12328570) and data type int64",
     "output_type": "error",
     "traceback": [
      "\u001b[31m---------------------------------------------------------------------------\u001b[39m",
      "\u001b[31mMemoryError\u001b[39m                               Traceback (most recent call last)",
      "\u001b[36mCell\u001b[39m\u001b[36m \u001b[39m\u001b[32mIn[15]\u001b[39m\u001b[32m, line 8\u001b[39m\n\u001b[32m      4\u001b[39m df = df.merge(ingresos_enigh, on=\u001b[33m'\u001b[39m\u001b[33mfolioviv\u001b[39m\u001b[33m'\u001b[39m, how=\u001b[33m'\u001b[39m\u001b[33minner\u001b[39m\u001b[33m'\u001b[39m, suffixes=(\u001b[33m'\u001b[39m\u001b[33m_df\u001b[39m\u001b[33m'\u001b[39m, \u001b[33m'\u001b[39m\u001b[33m_ingresos\u001b[39m\u001b[33m'\u001b[39m))\n\u001b[32m      6\u001b[39m trabajos = trabajos.drop(columns=[\u001b[33m'\u001b[39m\u001b[33mfoliohog\u001b[39m\u001b[33m'\u001b[39m])\n\u001b[32m----> \u001b[39m\u001b[32m8\u001b[39m df = \u001b[43mdf\u001b[49m\u001b[43m.\u001b[49m\u001b[43mmerge\u001b[49m\u001b[43m(\u001b[49m\u001b[43mtrabajos\u001b[49m\u001b[43m,\u001b[49m\u001b[43m \u001b[49m\u001b[43mon\u001b[49m\u001b[43m=\u001b[49m\u001b[33;43m'\u001b[39;49m\u001b[33;43mfolioviv\u001b[39;49m\u001b[33;43m'\u001b[39;49m\u001b[43m,\u001b[49m\u001b[43m \u001b[49m\u001b[43mhow\u001b[49m\u001b[43m=\u001b[49m\u001b[33;43m'\u001b[39;49m\u001b[33;43minner\u001b[39;49m\u001b[33;43m'\u001b[39;49m\u001b[43m,\u001b[49m\u001b[43m \u001b[49m\u001b[43msuffixes\u001b[49m\u001b[43m=\u001b[49m\u001b[43m(\u001b[49m\u001b[33;43m'\u001b[39;49m\u001b[33;43m_df\u001b[39;49m\u001b[33;43m'\u001b[39;49m\u001b[43m,\u001b[49m\u001b[43m \u001b[49m\u001b[33;43m'\u001b[39;49m\u001b[33;43m_trabajos\u001b[39;49m\u001b[33;43m'\u001b[39;49m\u001b[43m)\u001b[49m\u001b[43m)\u001b[49m\n\u001b[32m      9\u001b[39m df = df.merge(viviendas, on=\u001b[33m'\u001b[39m\u001b[33mfolioviv\u001b[39m\u001b[33m'\u001b[39m, how=\u001b[33m'\u001b[39m\u001b[33minner\u001b[39m\u001b[33m'\u001b[39m)\n",
      "\u001b[36mFile \u001b[39m\u001b[32m~\\AppData\\Local\\Packages\\PythonSoftwareFoundation.Python.3.12_qbz5n2kfra8p0\\LocalCache\\local-packages\\Python312\\site-packages\\pandas\\core\\frame.py:10832\u001b[39m, in \u001b[36mDataFrame.merge\u001b[39m\u001b[34m(self, right, how, on, left_on, right_on, left_index, right_index, sort, suffixes, copy, indicator, validate)\u001b[39m\n\u001b[32m  10813\u001b[39m \u001b[38;5;129m@Substitution\u001b[39m(\u001b[33m\"\u001b[39m\u001b[33m\"\u001b[39m)\n\u001b[32m  10814\u001b[39m \u001b[38;5;129m@Appender\u001b[39m(_merge_doc, indents=\u001b[32m2\u001b[39m)\n\u001b[32m  10815\u001b[39m \u001b[38;5;28;01mdef\u001b[39;00m\u001b[38;5;250m \u001b[39m\u001b[34mmerge\u001b[39m(\n\u001b[32m   (...)\u001b[39m\u001b[32m  10828\u001b[39m     validate: MergeValidate | \u001b[38;5;28;01mNone\u001b[39;00m = \u001b[38;5;28;01mNone\u001b[39;00m,\n\u001b[32m  10829\u001b[39m ) -> DataFrame:\n\u001b[32m  10830\u001b[39m     \u001b[38;5;28;01mfrom\u001b[39;00m\u001b[38;5;250m \u001b[39m\u001b[34;01mpandas\u001b[39;00m\u001b[34;01m.\u001b[39;00m\u001b[34;01mcore\u001b[39;00m\u001b[34;01m.\u001b[39;00m\u001b[34;01mreshape\u001b[39;00m\u001b[34;01m.\u001b[39;00m\u001b[34;01mmerge\u001b[39;00m\u001b[38;5;250m \u001b[39m\u001b[38;5;28;01mimport\u001b[39;00m merge\n\u001b[32m> \u001b[39m\u001b[32m10832\u001b[39m     \u001b[38;5;28;01mreturn\u001b[39;00m \u001b[43mmerge\u001b[49m\u001b[43m(\u001b[49m\n\u001b[32m  10833\u001b[39m \u001b[43m        \u001b[49m\u001b[38;5;28;43mself\u001b[39;49m\u001b[43m,\u001b[49m\n\u001b[32m  10834\u001b[39m \u001b[43m        \u001b[49m\u001b[43mright\u001b[49m\u001b[43m,\u001b[49m\n\u001b[32m  10835\u001b[39m \u001b[43m        \u001b[49m\u001b[43mhow\u001b[49m\u001b[43m=\u001b[49m\u001b[43mhow\u001b[49m\u001b[43m,\u001b[49m\n\u001b[32m  10836\u001b[39m \u001b[43m        \u001b[49m\u001b[43mon\u001b[49m\u001b[43m=\u001b[49m\u001b[43mon\u001b[49m\u001b[43m,\u001b[49m\n\u001b[32m  10837\u001b[39m \u001b[43m        \u001b[49m\u001b[43mleft_on\u001b[49m\u001b[43m=\u001b[49m\u001b[43mleft_on\u001b[49m\u001b[43m,\u001b[49m\n\u001b[32m  10838\u001b[39m \u001b[43m        \u001b[49m\u001b[43mright_on\u001b[49m\u001b[43m=\u001b[49m\u001b[43mright_on\u001b[49m\u001b[43m,\u001b[49m\n\u001b[32m  10839\u001b[39m \u001b[43m        \u001b[49m\u001b[43mleft_index\u001b[49m\u001b[43m=\u001b[49m\u001b[43mleft_index\u001b[49m\u001b[43m,\u001b[49m\n\u001b[32m  10840\u001b[39m \u001b[43m        \u001b[49m\u001b[43mright_index\u001b[49m\u001b[43m=\u001b[49m\u001b[43mright_index\u001b[49m\u001b[43m,\u001b[49m\n\u001b[32m  10841\u001b[39m \u001b[43m        \u001b[49m\u001b[43msort\u001b[49m\u001b[43m=\u001b[49m\u001b[43msort\u001b[49m\u001b[43m,\u001b[49m\n\u001b[32m  10842\u001b[39m \u001b[43m        \u001b[49m\u001b[43msuffixes\u001b[49m\u001b[43m=\u001b[49m\u001b[43msuffixes\u001b[49m\u001b[43m,\u001b[49m\n\u001b[32m  10843\u001b[39m \u001b[43m        \u001b[49m\u001b[43mcopy\u001b[49m\u001b[43m=\u001b[49m\u001b[43mcopy\u001b[49m\u001b[43m,\u001b[49m\n\u001b[32m  10844\u001b[39m \u001b[43m        \u001b[49m\u001b[43mindicator\u001b[49m\u001b[43m=\u001b[49m\u001b[43mindicator\u001b[49m\u001b[43m,\u001b[49m\n\u001b[32m  10845\u001b[39m \u001b[43m        \u001b[49m\u001b[43mvalidate\u001b[49m\u001b[43m=\u001b[49m\u001b[43mvalidate\u001b[49m\u001b[43m,\u001b[49m\n\u001b[32m  10846\u001b[39m \u001b[43m    \u001b[49m\u001b[43m)\u001b[49m\n",
      "\u001b[36mFile \u001b[39m\u001b[32m~\\AppData\\Local\\Packages\\PythonSoftwareFoundation.Python.3.12_qbz5n2kfra8p0\\LocalCache\\local-packages\\Python312\\site-packages\\pandas\\core\\reshape\\merge.py:184\u001b[39m, in \u001b[36mmerge\u001b[39m\u001b[34m(left, right, how, on, left_on, right_on, left_index, right_index, sort, suffixes, copy, indicator, validate)\u001b[39m\n\u001b[32m    169\u001b[39m \u001b[38;5;28;01melse\u001b[39;00m:\n\u001b[32m    170\u001b[39m     op = _MergeOperation(\n\u001b[32m    171\u001b[39m         left_df,\n\u001b[32m    172\u001b[39m         right_df,\n\u001b[32m   (...)\u001b[39m\u001b[32m    182\u001b[39m         validate=validate,\n\u001b[32m    183\u001b[39m     )\n\u001b[32m--> \u001b[39m\u001b[32m184\u001b[39m     \u001b[38;5;28;01mreturn\u001b[39;00m \u001b[43mop\u001b[49m\u001b[43m.\u001b[49m\u001b[43mget_result\u001b[49m\u001b[43m(\u001b[49m\u001b[43mcopy\u001b[49m\u001b[43m=\u001b[49m\u001b[43mcopy\u001b[49m\u001b[43m)\u001b[49m\n",
      "\u001b[36mFile \u001b[39m\u001b[32m~\\AppData\\Local\\Packages\\PythonSoftwareFoundation.Python.3.12_qbz5n2kfra8p0\\LocalCache\\local-packages\\Python312\\site-packages\\pandas\\core\\reshape\\merge.py:888\u001b[39m, in \u001b[36m_MergeOperation.get_result\u001b[39m\u001b[34m(self, copy)\u001b[39m\n\u001b[32m    884\u001b[39m     \u001b[38;5;28mself\u001b[39m.left, \u001b[38;5;28mself\u001b[39m.right = \u001b[38;5;28mself\u001b[39m._indicator_pre_merge(\u001b[38;5;28mself\u001b[39m.left, \u001b[38;5;28mself\u001b[39m.right)\n\u001b[32m    886\u001b[39m join_index, left_indexer, right_indexer = \u001b[38;5;28mself\u001b[39m._get_join_info()\n\u001b[32m--> \u001b[39m\u001b[32m888\u001b[39m result = \u001b[38;5;28;43mself\u001b[39;49m\u001b[43m.\u001b[49m\u001b[43m_reindex_and_concat\u001b[49m\u001b[43m(\u001b[49m\n\u001b[32m    889\u001b[39m \u001b[43m    \u001b[49m\u001b[43mjoin_index\u001b[49m\u001b[43m,\u001b[49m\u001b[43m \u001b[49m\u001b[43mleft_indexer\u001b[49m\u001b[43m,\u001b[49m\u001b[43m \u001b[49m\u001b[43mright_indexer\u001b[49m\u001b[43m,\u001b[49m\u001b[43m \u001b[49m\u001b[43mcopy\u001b[49m\u001b[43m=\u001b[49m\u001b[43mcopy\u001b[49m\n\u001b[32m    890\u001b[39m \u001b[43m\u001b[49m\u001b[43m)\u001b[49m\n\u001b[32m    891\u001b[39m result = result.__finalize__(\u001b[38;5;28mself\u001b[39m, method=\u001b[38;5;28mself\u001b[39m._merge_type)\n\u001b[32m    893\u001b[39m \u001b[38;5;28;01mif\u001b[39;00m \u001b[38;5;28mself\u001b[39m.indicator:\n",
      "\u001b[36mFile \u001b[39m\u001b[32m~\\AppData\\Local\\Packages\\PythonSoftwareFoundation.Python.3.12_qbz5n2kfra8p0\\LocalCache\\local-packages\\Python312\\site-packages\\pandas\\core\\reshape\\merge.py:863\u001b[39m, in \u001b[36m_MergeOperation._reindex_and_concat\u001b[39m\u001b[34m(self, join_index, left_indexer, right_indexer, copy)\u001b[39m\n\u001b[32m    858\u001b[39m left.index = join_index\n\u001b[32m    860\u001b[39m \u001b[38;5;28;01mif\u001b[39;00m right_indexer \u001b[38;5;129;01mis\u001b[39;00m \u001b[38;5;129;01mnot\u001b[39;00m \u001b[38;5;28;01mNone\u001b[39;00m \u001b[38;5;129;01mand\u001b[39;00m \u001b[38;5;129;01mnot\u001b[39;00m is_range_indexer(\n\u001b[32m    861\u001b[39m     right_indexer, \u001b[38;5;28mlen\u001b[39m(right)\n\u001b[32m    862\u001b[39m ):\n\u001b[32m--> \u001b[39m\u001b[32m863\u001b[39m     rmgr = \u001b[43mright\u001b[49m\u001b[43m.\u001b[49m\u001b[43m_mgr\u001b[49m\u001b[43m.\u001b[49m\u001b[43mreindex_indexer\u001b[49m\u001b[43m(\u001b[49m\n\u001b[32m    864\u001b[39m \u001b[43m        \u001b[49m\u001b[43mjoin_index\u001b[49m\u001b[43m,\u001b[49m\n\u001b[32m    865\u001b[39m \u001b[43m        \u001b[49m\u001b[43mright_indexer\u001b[49m\u001b[43m,\u001b[49m\n\u001b[32m    866\u001b[39m \u001b[43m        \u001b[49m\u001b[43maxis\u001b[49m\u001b[43m=\u001b[49m\u001b[32;43m1\u001b[39;49m\u001b[43m,\u001b[49m\n\u001b[32m    867\u001b[39m \u001b[43m        \u001b[49m\u001b[43mcopy\u001b[49m\u001b[43m=\u001b[49m\u001b[38;5;28;43;01mFalse\u001b[39;49;00m\u001b[43m,\u001b[49m\n\u001b[32m    868\u001b[39m \u001b[43m        \u001b[49m\u001b[43monly_slice\u001b[49m\u001b[43m=\u001b[49m\u001b[38;5;28;43;01mTrue\u001b[39;49;00m\u001b[43m,\u001b[49m\n\u001b[32m    869\u001b[39m \u001b[43m        \u001b[49m\u001b[43mallow_dups\u001b[49m\u001b[43m=\u001b[49m\u001b[38;5;28;43;01mTrue\u001b[39;49;00m\u001b[43m,\u001b[49m\n\u001b[32m    870\u001b[39m \u001b[43m        \u001b[49m\u001b[43muse_na_proxy\u001b[49m\u001b[43m=\u001b[49m\u001b[38;5;28;43;01mTrue\u001b[39;49;00m\u001b[43m,\u001b[49m\n\u001b[32m    871\u001b[39m \u001b[43m    \u001b[49m\u001b[43m)\u001b[49m\n\u001b[32m    872\u001b[39m     right = right._constructor_from_mgr(rmgr, axes=rmgr.axes)\n\u001b[32m    873\u001b[39m right.index = join_index\n",
      "\u001b[36mFile \u001b[39m\u001b[32m~\\AppData\\Local\\Packages\\PythonSoftwareFoundation.Python.3.12_qbz5n2kfra8p0\\LocalCache\\local-packages\\Python312\\site-packages\\pandas\\core\\internals\\managers.py:688\u001b[39m, in \u001b[36mBaseBlockManager.reindex_indexer\u001b[39m\u001b[34m(self, new_axis, indexer, axis, fill_value, allow_dups, copy, only_slice, use_na_proxy)\u001b[39m\n\u001b[32m    680\u001b[39m     new_blocks = \u001b[38;5;28mself\u001b[39m._slice_take_blocks_ax0(\n\u001b[32m    681\u001b[39m         indexer,\n\u001b[32m    682\u001b[39m         fill_value=fill_value,\n\u001b[32m    683\u001b[39m         only_slice=only_slice,\n\u001b[32m    684\u001b[39m         use_na_proxy=use_na_proxy,\n\u001b[32m    685\u001b[39m     )\n\u001b[32m    686\u001b[39m \u001b[38;5;28;01melse\u001b[39;00m:\n\u001b[32m    687\u001b[39m     new_blocks = [\n\u001b[32m--> \u001b[39m\u001b[32m688\u001b[39m         \u001b[43mblk\u001b[49m\u001b[43m.\u001b[49m\u001b[43mtake_nd\u001b[49m\u001b[43m(\u001b[49m\n\u001b[32m    689\u001b[39m \u001b[43m            \u001b[49m\u001b[43mindexer\u001b[49m\u001b[43m,\u001b[49m\n\u001b[32m    690\u001b[39m \u001b[43m            \u001b[49m\u001b[43maxis\u001b[49m\u001b[43m=\u001b[49m\u001b[32;43m1\u001b[39;49m\u001b[43m,\u001b[49m\n\u001b[32m    691\u001b[39m \u001b[43m            \u001b[49m\u001b[43mfill_value\u001b[49m\u001b[43m=\u001b[49m\u001b[43m(\u001b[49m\n\u001b[32m    692\u001b[39m \u001b[43m                \u001b[49m\u001b[43mfill_value\u001b[49m\u001b[43m \u001b[49m\u001b[38;5;28;43;01mif\u001b[39;49;00m\u001b[43m \u001b[49m\u001b[43mfill_value\u001b[49m\u001b[43m \u001b[49m\u001b[38;5;129;43;01mis\u001b[39;49;00m\u001b[43m \u001b[49m\u001b[38;5;129;43;01mnot\u001b[39;49;00m\u001b[43m \u001b[49m\u001b[38;5;28;43;01mNone\u001b[39;49;00m\u001b[43m \u001b[49m\u001b[38;5;28;43;01melse\u001b[39;49;00m\u001b[43m \u001b[49m\u001b[43mblk\u001b[49m\u001b[43m.\u001b[49m\u001b[43mfill_value\u001b[49m\n\u001b[32m    693\u001b[39m \u001b[43m            \u001b[49m\u001b[43m)\u001b[49m\u001b[43m,\u001b[49m\n\u001b[32m    694\u001b[39m \u001b[43m        \u001b[49m\u001b[43m)\u001b[49m\n\u001b[32m    695\u001b[39m         \u001b[38;5;28;01mfor\u001b[39;00m blk \u001b[38;5;129;01min\u001b[39;00m \u001b[38;5;28mself\u001b[39m.blocks\n\u001b[32m    696\u001b[39m     ]\n\u001b[32m    698\u001b[39m new_axes = \u001b[38;5;28mlist\u001b[39m(\u001b[38;5;28mself\u001b[39m.axes)\n\u001b[32m    699\u001b[39m new_axes[axis] = new_axis\n",
      "\u001b[36mFile \u001b[39m\u001b[32m~\\AppData\\Local\\Packages\\PythonSoftwareFoundation.Python.3.12_qbz5n2kfra8p0\\LocalCache\\local-packages\\Python312\\site-packages\\pandas\\core\\internals\\blocks.py:1307\u001b[39m, in \u001b[36mBlock.take_nd\u001b[39m\u001b[34m(self, indexer, axis, new_mgr_locs, fill_value)\u001b[39m\n\u001b[32m   1304\u001b[39m     allow_fill = \u001b[38;5;28;01mTrue\u001b[39;00m\n\u001b[32m   1306\u001b[39m \u001b[38;5;66;03m# Note: algos.take_nd has upcast logic similar to coerce_to_target_dtype\u001b[39;00m\n\u001b[32m-> \u001b[39m\u001b[32m1307\u001b[39m new_values = \u001b[43malgos\u001b[49m\u001b[43m.\u001b[49m\u001b[43mtake_nd\u001b[49m\u001b[43m(\u001b[49m\n\u001b[32m   1308\u001b[39m \u001b[43m    \u001b[49m\u001b[43mvalues\u001b[49m\u001b[43m,\u001b[49m\u001b[43m \u001b[49m\u001b[43mindexer\u001b[49m\u001b[43m,\u001b[49m\u001b[43m \u001b[49m\u001b[43maxis\u001b[49m\u001b[43m=\u001b[49m\u001b[43maxis\u001b[49m\u001b[43m,\u001b[49m\u001b[43m \u001b[49m\u001b[43mallow_fill\u001b[49m\u001b[43m=\u001b[49m\u001b[43mallow_fill\u001b[49m\u001b[43m,\u001b[49m\u001b[43m \u001b[49m\u001b[43mfill_value\u001b[49m\u001b[43m=\u001b[49m\u001b[43mfill_value\u001b[49m\n\u001b[32m   1309\u001b[39m \u001b[43m\u001b[49m\u001b[43m)\u001b[49m\n\u001b[32m   1311\u001b[39m \u001b[38;5;66;03m# Called from three places in managers, all of which satisfy\u001b[39;00m\n\u001b[32m   1312\u001b[39m \u001b[38;5;66;03m#  these assertions\u001b[39;00m\n\u001b[32m   1313\u001b[39m \u001b[38;5;28;01mif\u001b[39;00m \u001b[38;5;28misinstance\u001b[39m(\u001b[38;5;28mself\u001b[39m, ExtensionBlock):\n\u001b[32m   1314\u001b[39m     \u001b[38;5;66;03m# NB: in this case, the 'axis' kwarg will be ignored in the\u001b[39;00m\n\u001b[32m   1315\u001b[39m     \u001b[38;5;66;03m#  algos.take_nd call above.\u001b[39;00m\n",
      "\u001b[36mFile \u001b[39m\u001b[32m~\\AppData\\Local\\Packages\\PythonSoftwareFoundation.Python.3.12_qbz5n2kfra8p0\\LocalCache\\local-packages\\Python312\\site-packages\\pandas\\core\\array_algos\\take.py:117\u001b[39m, in \u001b[36mtake_nd\u001b[39m\u001b[34m(arr, indexer, axis, fill_value, allow_fill)\u001b[39m\n\u001b[32m    114\u001b[39m     \u001b[38;5;28;01mreturn\u001b[39;00m arr.take(indexer, fill_value=fill_value, allow_fill=allow_fill)\n\u001b[32m    116\u001b[39m arr = np.asarray(arr)\n\u001b[32m--> \u001b[39m\u001b[32m117\u001b[39m \u001b[38;5;28;01mreturn\u001b[39;00m \u001b[43m_take_nd_ndarray\u001b[49m\u001b[43m(\u001b[49m\u001b[43marr\u001b[49m\u001b[43m,\u001b[49m\u001b[43m \u001b[49m\u001b[43mindexer\u001b[49m\u001b[43m,\u001b[49m\u001b[43m \u001b[49m\u001b[43maxis\u001b[49m\u001b[43m,\u001b[49m\u001b[43m \u001b[49m\u001b[43mfill_value\u001b[49m\u001b[43m,\u001b[49m\u001b[43m \u001b[49m\u001b[43mallow_fill\u001b[49m\u001b[43m)\u001b[49m\n",
      "\u001b[36mFile \u001b[39m\u001b[32m~\\AppData\\Local\\Packages\\PythonSoftwareFoundation.Python.3.12_qbz5n2kfra8p0\\LocalCache\\local-packages\\Python312\\site-packages\\pandas\\core\\array_algos\\take.py:157\u001b[39m, in \u001b[36m_take_nd_ndarray\u001b[39m\u001b[34m(arr, indexer, axis, fill_value, allow_fill)\u001b[39m\n\u001b[32m    155\u001b[39m     out = np.empty(out_shape, dtype=dtype, order=\u001b[33m\"\u001b[39m\u001b[33mF\u001b[39m\u001b[33m\"\u001b[39m)\n\u001b[32m    156\u001b[39m \u001b[38;5;28;01melse\u001b[39;00m:\n\u001b[32m--> \u001b[39m\u001b[32m157\u001b[39m     out = \u001b[43mnp\u001b[49m\u001b[43m.\u001b[49m\u001b[43mempty\u001b[49m\u001b[43m(\u001b[49m\u001b[43mout_shape\u001b[49m\u001b[43m,\u001b[49m\u001b[43m \u001b[49m\u001b[43mdtype\u001b[49m\u001b[43m=\u001b[49m\u001b[43mdtype\u001b[49m\u001b[43m)\u001b[49m\n\u001b[32m    159\u001b[39m func = _get_take_nd_function(\n\u001b[32m    160\u001b[39m     arr.ndim, arr.dtype, out.dtype, axis=axis, mask_info=mask_info\n\u001b[32m    161\u001b[39m )\n\u001b[32m    162\u001b[39m func(arr, indexer, out, fill_value)\n",
      "\u001b[31mMemoryError\u001b[39m: Unable to allocate 564. MiB for an array with shape (6, 12328570) and data type int64"
     ]
    }
   ],
   "source": [
    "df = hogares.merge(erogaciones, on='folioviv', how='inner')\n",
    "df = df.merge(gastoshogar, on='folioviv', how='inner', suffixes=('_left', '_right'))\n",
    "df = df.merge(gastotarjetas, on='folioviv', how='inner', suffixes=('_df', '_gastotarjetas'))\n",
    "df = df.merge(ingresos_enigh, on='folioviv', how='inner', suffixes=('_df', '_ingresos'))\n",
    "\n",
    "trabajos = trabajos.drop(columns=['foliohog'])\n",
    "\n",
    "df = df.merge(trabajos, on='folioviv', how='inner', suffixes=('_df', '_trabajos'))\n",
    "df = df.merge(viviendas, on='folioviv', how='inner')"
   ]
  },
  {
   "cell_type": "markdown",
   "metadata": {},
   "source": []
  },
  {
   "cell_type": "code",
   "execution_count": null,
   "metadata": {},
   "outputs": [],
   "source": []
  }
 ],
 "metadata": {
  "kernelspec": {
   "display_name": "Python 3",
   "language": "python",
   "name": "python3"
  },
  "language_info": {
   "codemirror_mode": {
    "name": "ipython",
    "version": 3
   },
   "file_extension": ".py",
   "mimetype": "text/x-python",
   "name": "python",
   "nbconvert_exporter": "python",
   "pygments_lexer": "ipython3",
   "version": "3.12.9"
  }
 },
 "nbformat": 4,
 "nbformat_minor": 2
}
